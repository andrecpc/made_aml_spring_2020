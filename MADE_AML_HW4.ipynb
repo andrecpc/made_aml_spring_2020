{
  "nbformat": 4,
  "nbformat_minor": 0,
  "metadata": {
    "colab": {
      "name": "MADE AML HW4 Педченко Андрей Заочно.ipynb",
      "provenance": []
    },
    "kernelspec": {
      "name": "python3",
      "display_name": "Python 3"
    }
  },
  "cells": [
    {
      "cell_type": "code",
      "metadata": {
        "id": "5JD2DQfgPdly",
        "colab_type": "code",
        "colab": {
          "base_uri": "https://localhost:8080/",
          "height": 507
        },
        "outputId": "cf8e8fa6-543c-463e-c4f7-ee307301f7a8"
      },
      "source": [
        "!wget https://www.dropbox.com/s/k23enjvr3fb40o5/corpora.zip\n",
        "!unzip corpora.zip"
      ],
      "execution_count": null,
      "outputs": [
        {
          "output_type": "stream",
          "text": [
            "--2020-06-18 04:59:12--  https://www.dropbox.com/s/k23enjvr3fb40o5/corpora.zip\n",
            "Resolving www.dropbox.com (www.dropbox.com)... 162.125.1.1, 2620:100:6016:1::a27d:101\n",
            "Connecting to www.dropbox.com (www.dropbox.com)|162.125.1.1|:443... connected.\n",
            "HTTP request sent, awaiting response... 301 Moved Permanently\n",
            "Location: /s/raw/k23enjvr3fb40o5/corpora.zip [following]\n",
            "--2020-06-18 04:59:12--  https://www.dropbox.com/s/raw/k23enjvr3fb40o5/corpora.zip\n",
            "Reusing existing connection to www.dropbox.com:443.\n",
            "HTTP request sent, awaiting response... 302 Found\n",
            "Location: https://uce3d9ddb89e67dbccccd6c0ba99.dl.dropboxusercontent.com/cd/0/inline/A52dARsVxRuJafU6bD9_WvA2hko2ooI01cSx1oBdZe0rLr9EntSi7BU4PoAEYHnyQkalIYmPM9EzlNpB3z2o-l9CQkWLHcFIQrrUvKoLBPR9id1-sqclDsdyfrvYxCSqSqM/file# [following]\n",
            "--2020-06-18 04:59:13--  https://uce3d9ddb89e67dbccccd6c0ba99.dl.dropboxusercontent.com/cd/0/inline/A52dARsVxRuJafU6bD9_WvA2hko2ooI01cSx1oBdZe0rLr9EntSi7BU4PoAEYHnyQkalIYmPM9EzlNpB3z2o-l9CQkWLHcFIQrrUvKoLBPR9id1-sqclDsdyfrvYxCSqSqM/file\n",
            "Resolving uce3d9ddb89e67dbccccd6c0ba99.dl.dropboxusercontent.com (uce3d9ddb89e67dbccccd6c0ba99.dl.dropboxusercontent.com)... 162.125.1.15, 2620:100:6016:15::a27d:10f\n",
            "Connecting to uce3d9ddb89e67dbccccd6c0ba99.dl.dropboxusercontent.com (uce3d9ddb89e67dbccccd6c0ba99.dl.dropboxusercontent.com)|162.125.1.15|:443... connected.\n",
            "HTTP request sent, awaiting response... 302 Found\n",
            "Location: /cd/0/inline2/A50HCxNbaWnOAKh47JzAMKEV1hpa2VafakbtfFxsYuVPAkYdyZ6FWstujiCAz6UiGYihKi01dHZAQPivu6ORR9VClXNFYOFEr_2Xyp0Lgtc88c-CiJdSalMAw6vSrRbFypiT4D_yGXFxdWQgermxvuj7S3vX4jRoBkg9fVzRP7ZcfCNurxWq2FdVGANV52JkUEUc3EmdAlhDJzkf9NqMxZ9qsyCNUJDYpRTvXmEGhgEqtBrMjC63VziMQZc4xZOQaYCAeaPQjfaG7uDOndj_o9VZitYz4HkFsSOdkPzXdCwer4n1DMZwlYPlVMaprlXXEPOTALAAmiWAO0D6w1zryD63eSWo5Nu-zAIe67dOquNxFg/file [following]\n",
            "--2020-06-18 04:59:13--  https://uce3d9ddb89e67dbccccd6c0ba99.dl.dropboxusercontent.com/cd/0/inline2/A50HCxNbaWnOAKh47JzAMKEV1hpa2VafakbtfFxsYuVPAkYdyZ6FWstujiCAz6UiGYihKi01dHZAQPivu6ORR9VClXNFYOFEr_2Xyp0Lgtc88c-CiJdSalMAw6vSrRbFypiT4D_yGXFxdWQgermxvuj7S3vX4jRoBkg9fVzRP7ZcfCNurxWq2FdVGANV52JkUEUc3EmdAlhDJzkf9NqMxZ9qsyCNUJDYpRTvXmEGhgEqtBrMjC63VziMQZc4xZOQaYCAeaPQjfaG7uDOndj_o9VZitYz4HkFsSOdkPzXdCwer4n1DMZwlYPlVMaprlXXEPOTALAAmiWAO0D6w1zryD63eSWo5Nu-zAIe67dOquNxFg/file\n",
            "Reusing existing connection to uce3d9ddb89e67dbccccd6c0ba99.dl.dropboxusercontent.com:443.\n",
            "HTTP request sent, awaiting response... 200 OK\n",
            "Length: 2434585 (2.3M) [application/zip]\n",
            "Saving to: ‘corpora.zip’\n",
            "\n",
            "corpora.zip         100%[===================>]   2.32M  --.-KB/s    in 0.06s   \n",
            "\n",
            "2020-06-18 04:59:13 (40.4 MB/s) - ‘corpora.zip’ saved [2434585/2434585]\n",
            "\n",
            "Archive:  corpora.zip\n",
            "  inflating: AnnaKarenina.txt        \n",
            "  inflating: WarAndPeace.txt         \n",
            "  inflating: WarAndPeaceEng.txt      \n"
          ],
          "name": "stdout"
        }
      ]
    },
    {
      "cell_type": "markdown",
      "metadata": {
        "id": "K5dhAmXRaj_W",
        "colab_type": "text"
      },
      "source": [
        "## 1. Реализуйте базовый частотный метод по Шерлоку Холмсу"
      ]
    },
    {
      "cell_type": "code",
      "metadata": {
        "id": "PTl0L5GCajfR",
        "colab_type": "code",
        "colab": {
          "base_uri": "https://localhost:8080/",
          "height": 54
        },
        "outputId": "366d5adc-4699-49b9-8a0c-fe40f463f6f7"
      },
      "source": [
        "from nltk.tokenize import RegexpTokenizer\n",
        "from collections import Counter\n",
        "\n",
        "# Считываем тексты из файлов\n",
        "files = ['AnnaKarenina.txt', 'WarAndPeace.txt']\n",
        "text = ''\n",
        "\n",
        "for file in files:\n",
        "  with open(file, 'r', encoding='utf-8') as f:\n",
        "    for line in f.readlines():\n",
        "      text += line.lower()\n",
        "\n",
        "# Удаляем пунктуацию и приводим к нижнему регистру\n",
        "tokenizer = RegexpTokenizer(r'\\w+')\n",
        "text = ' '.join(tokenizer.tokenize(text.lower()))\n",
        "\n",
        "# Строим словарь частот символов\n",
        "freq_dict = Counter(text)\n",
        "alphabet = \"абвгдеёжзийклмнопрстуфхцчшщъыьэюя \"\n",
        "freq_dict = {k: v for k, v in freq_dict.items() if k in alphabet}\n",
        "\n",
        "# Выбираем тестовые тексты\n",
        "test_text_1 = \"\"\"\n",
        "  Во какие! Выпали из гнезда сорочата. Уж как крутились над ними старые сороки, \n",
        "  уж как кричали, но посадить сорочат в гнездо так и не смогли. Тогда мы их поймали и принесли \n",
        "  домой. Сперва сорочата нас боялись, но уже к вечеру обжились и забыли своих родителей. Словно \n",
        "  их и небыло! Кормили мы их червяками, кузнечиками, булкой. Старые сороки рядом крутились, в \n",
        "  окна заглядывали, стучали носом в стекло. Но сорочата не в окна смотрели, а в дверь: ждали, \n",
        "  когда мы в дверь с едой войдём. И тогда так разевали красные рты, что чуть пополам не \n",
        "  разрывались! Бились в истерике и орали. Жутко были прожорливые.\n",
        "\"\"\"\n",
        "\n",
        "test_text_2 = \"\"\"\n",
        "  В поэме Гоголя «Мёртвые души» каждый герой олицетворяет те или иные человеческие пороки. \n",
        "  Ноздрёв – авантюрист, игрок, проматывающий состояние, заработанное тяжким чужим трудом. \n",
        "  Манилов – пустой мечтатель, любитель громких, напыщенных фраз, нисколько не заботящийся \n",
        "  о своём имении. Собакевич, напротив, приверженец всего материального, вообще лишённый каких \n",
        "  бы то ни было духовных запросов. Плюшкин и вовсе «прореха на человечестве», скупердяй, \n",
        "  совершенно потерявший человеческое обличье. Сложнее с Настасьей Петровной Коробочкой — \n",
        "  единственной женщиной в ряду этих персонажей. В чём её порок и что отличает её от других \n",
        "  героев поэмы? Она не фанатик вроде Собакевича, колодец у которого обшит корабельным дубом, \n",
        "  и не похожа на Манилова, помешанного на красоте усадебных строений. Коробочка не транжирит \n",
        "  деньги, как Ноздрёв, имение у неё небольшое, зато доходное. Она расчётлива, но, в отличие \n",
        "  от Плюшкина, не скупа: накормила Чичикова вкусным и сытным завтраком, где были грибки, и \n",
        "  пирожки, и блины с топлёным маслицем. Коробочка простосердечна, но страх перед новым у нее \n",
        "  доведен до крайности. Все вокруг меняется, а она все так же живет по старинке. Ее связь с \n",
        "  миром осуществляется по традиционной схеме «товар — деньги — товар», которую нарушает \n",
        "  Чичиков: покупая «мертвые души», он деньги отдает, а реальный товар не получает. Это и \n",
        "  настораживает Коробочку. В результате именно Коробочка ломает изобретённую Чичиковым \n",
        "  криминальную схему. Коробочка едет в город, чтобы узнать, не изменился ли внешний мир, \n",
        "  не торгуют ли там уже и «мёртвыми душами», не продешевила ли она. Разгорается скандал, \n",
        "  вынуждающий Чичикова бежать из города куда глаза глядят. Так консерватор Коробочка \n",
        "  побеждает Чичикова-модерниста. Конечно, будущие чичиковы придумают новые махинации, на \n",
        "  первый взгляд бессмысленные, но приносящие вполне ощутимый доход. Однако на всякого \n",
        "  хитреца найдётся своя Коробочка, от простых вопросов которой сбежит очередной ловец душ.\n",
        "\"\"\"\n",
        "\n",
        "print(freq_dict)"
      ],
      "execution_count": null,
      "outputs": [
        {
          "output_type": "stream",
          "text": [
            "{' ': 397300, 'а': 162313, 'н': 133258, 'к': 67788, 'р': 80859, 'е': 166169, 'и': 129712, 'о': 223691, 'д': 58019, 'з': 32723, 'с': 103252, 'м': 56467, 'ы': 36447, 'х': 15586, 'т': 115258, 'в': 91386, 'л': 98191, 'ь': 38351, 'г': 36870, 'ч': 31207, 'я': 42921, 'ш': 17158, 'й': 21072, 'ф': 2990, 'п': 47940, 'ж': 21480, 'у': 53583, 'э': 6648, 'ц': 6172, 'ю': 12307, 'б': 34028, 'щ': 5568, 'ъ': 695, 'ё': 462}\n"
          ],
          "name": "stdout"
        }
      ]
    },
    {
      "cell_type": "code",
      "metadata": {
        "id": "eqahTVfNi64j",
        "colab_type": "code",
        "colab": {
          "base_uri": "https://localhost:8080/",
          "height": 104
        },
        "outputId": "6fb12267-cf89-43a6-e766-3e9743d6cf3e"
      },
      "source": [
        "import random\n",
        "\n",
        "# Нормализуем тестовые тексты\n",
        "test_text_1 = ' '.join(tokenizer.tokenize(test_text_1.lower()))\n",
        "test_text_2 = ' '.join(tokenizer.tokenize(test_text_2.lower()))\n",
        "\n",
        "# Подготавливаем словарь замен символов для тестовых текстов\n",
        "alph = list(freq_dict.keys())\n",
        "alph_shuf = alph.copy()\n",
        "random.shuffle(alph_shuf)\n",
        "letter_pairs = {k: v for k, v in zip(alph, alph_shuf)}\n",
        "\n",
        "# Заменяем символы в тестовых текстах\n",
        "test_text_1_shuf = ''.join(letter_pairs[let] for let in test_text_1)\n",
        "test_text_2_shuf = ''.join(letter_pairs[let] for let in test_text_2)\n",
        "\n",
        "print(\"Словарь замен символов:\")\n",
        "print(letter_pairs)\n",
        "print(\"Фрагменты из закодированных текстов:\")\n",
        "print(test_text_1_shuf[0:40], '|', test_text_2_shuf[0:40])"
      ],
      "execution_count": null,
      "outputs": [
        {
          "output_type": "stream",
          "text": [
            "Словарь замен символов:\n",
            "{' ': 'ы', 'а': 'а', 'н': 'у', 'к': 'к', 'р': 'т', 'е': 'ю', 'и': 'ф', 'о': ' ', 'д': 'з', 'з': 'ш', 'с': 'х', 'м': 'б', 'ы': 'с', 'х': 'в', 'т': 'ж', 'в': 'щ', 'л': 'я', 'ь': 'й', 'г': 'э', 'ч': 'н', 'я': 'г', 'ш': 'о', 'й': 'ь', 'ф': 'р', 'п': 'и', 'ж': 'ц', 'у': 'л', 'э': 'ч', 'ц': 'е', 'ю': 'ъ', 'б': 'ё', 'щ': 'м', 'ъ': 'д', 'ё': 'п'}\n",
            "Фрагменты из закодированных текстов:\n",
            "щ ыкакфюыщсиаяфыфшыэуюшзаых т нажаылцыка | щыи чбюыэ э ягыбптжщсюызлофыкацзсьыэют ь\n"
          ],
          "name": "stdout"
        }
      ]
    },
    {
      "cell_type": "code",
      "metadata": {
        "id": "IeUgS4V7i-Ga",
        "colab_type": "code",
        "colab": {
          "base_uri": "https://localhost:8080/",
          "height": 67
        },
        "outputId": "b49d562b-0990-49f8-94d5-851340ef7e71"
      },
      "source": [
        "# Сортируем словарь частот по количеству вхождений\n",
        "sort_freq_dict_main = {k: v for k, v in sorted(freq_dict.items(), key = lambda item: item[1], reverse = True)}\n",
        "\n",
        "def text_decode(sort_freq_dict_main, text):\n",
        "  \"\"\"Функция для декодирования тестовых текстов.\"\"\"\n",
        "\n",
        "  freq_dict = Counter(text)\n",
        "  alphabet = \"абвгдеёжзийклмнопрстуфхцчшщъыьэюя \"\n",
        "  freq_dict = {k: v for k, v in freq_dict.items() if k in alphabet}\n",
        "  sort_freq_dict = {k: v for k, v in sorted(freq_dict.items(), key = lambda item: item[1], reverse = True)}\n",
        "  letter_pairs = {k: v for k, v in zip(sort_freq_dict, sort_freq_dict_main)}\n",
        "  decoded_text = ''.join(letter_pairs[let] for let in text)\n",
        "\n",
        "  return decoded_text\n",
        "\n",
        "def similarity(orig_text, decoded_text):\n",
        "  \"\"\"Функция, которая считает отношение совпадений символов между текстами\"\"\"\n",
        "\n",
        "  c = 0\n",
        "  for l1, l2 in zip(orig_text, decoded_text):\n",
        "    if l1 == l2:\n",
        "      c += 1\n",
        "\n",
        "  return c / len(orig_text)\n",
        "\n",
        "# Декодируем тексты\n",
        "text_1_decoded = text_decode(sort_freq_dict_main, test_text_1_shuf)\n",
        "text_2_decoded = text_decode(sort_freq_dict_main, test_text_2_shuf)\n",
        "\n",
        "print(\"Фрагменты из текстов:\")\n",
        "print(text_1_decoded[0:60], '|', text_2_decoded[0:60])\n",
        "print(f\"Похожесть для первого текста {similarity(test_text_1, text_1_decoded)}, для второго {similarity(test_text_2, text_2_decoded)}\")"
      ],
      "execution_count": null,
      "outputs": [
        {
          "output_type": "stream",
          "text": [
            "Фрагменты из текстов:\n",
            "ре лалои ругато оы бкиыда сенепава яз лал лнявотось кад комо | л яофке ыоыодз кюстлье мпха внчмьб ыесоб одащетлосзет те ада\n",
            "Похожесть для первого текста 0.36869565217391304, для второго 0.37479806138933763\n"
          ],
          "name": "stdout"
        }
      ]
    },
    {
      "cell_type": "code",
      "metadata": {
        "id": "klUAI-OwUnOK",
        "colab_type": "code",
        "colab": {}
      },
      "source": [
        "# пробелы неплохо угадываются) в остальном непонятно, что было в оригинале"
      ],
      "execution_count": null,
      "outputs": []
    },
    {
      "cell_type": "markdown",
      "metadata": {
        "id": "WHw6UBeYfzMQ",
        "colab_type": "text"
      },
      "source": [
        "## 2. Биграммы"
      ]
    },
    {
      "cell_type": "code",
      "metadata": {
        "id": "naLbS6O5XIrf",
        "colab_type": "code",
        "colab": {
          "base_uri": "https://localhost:8080/",
          "height": 67
        },
        "outputId": "cac70f40-88d1-469a-9d57-5022818277db"
      },
      "source": [
        "from collections import defaultdict\n",
        "\n",
        "# Строим словарь частот биграмм\n",
        "alphabet = \"абвгдеёжзийклмнопрстуфхцчшщъыьэюя \"\n",
        "\n",
        "freq_dict = defaultdict(int)\n",
        "for i in range(len(text) - 2):\n",
        "  bigr = text[i: i + 2]\n",
        "  if (bigr[0] in alphabet) and (bigr[1] in alphabet):\n",
        "    freq_dict[bigr] += 1\n",
        "\n",
        "# Сортируем словарь частот по количеству вхождений\n",
        "sort_freq_dict_main = {k: v for k, v in sorted(freq_dict.items(), key = lambda item: item[1], reverse = True)}\n",
        "\n",
        "def text_decode_bigr(sort_freq_dict_main, text):\n",
        "  \"\"\"Функция для декодирования тестовых текстов с биграммами.\"\"\"\n",
        "\n",
        "  freq_dict = defaultdict(int)\n",
        "  alphabet = \"абвгдеёжзийклмнопрстуфхцчшщъыьэюя \"\n",
        "  for i in range(len(text) - 2):\n",
        "    bigr = text[i: i + 2]\n",
        "    if (bigr[0] in alphabet) and (bigr[1] in alphabet):\n",
        "      freq_dict[bigr] += 1\n",
        "\n",
        "  sort_freq_dict = {k: v for k, v in sorted(freq_dict.items(), key = lambda item: item[1], reverse = True)}\n",
        "  bigr_pairs = {k: v for k, v in zip(sort_freq_dict, sort_freq_dict_main)}\n",
        "  bigr_text = []\n",
        "  for i in range(len(text) - 2):\n",
        "    bigr = text[i: i + 2]\n",
        "    bigr_text.append(bigr)\n",
        "  decoded_text = ''.join(bigr_pairs[bigr] for bigr in bigr_text)\n",
        "\n",
        "  return decoded_text\n",
        "\n",
        "# Декодируем тексты\n",
        "text_1_decoded = text_decode_bigr(sort_freq_dict_main, test_text_1_shuf)\n",
        "text_2_decoded = text_decode_bigr(sort_freq_dict_main, test_text_2_shuf)\n",
        "\n",
        "print(\"Фрагменты из текстов:\")\n",
        "print(text_1_decoded[0:60], '|', text_2_decoded[0:60])\n",
        "print(f\"Похожесть для первого текста {similarity(test_text_1, text_1_decoded)}, для второго {similarity(test_text_2, text_2_decoded)}\")"
      ],
      "execution_count": null,
      "outputs": [
        {
          "output_type": "stream",
          "text": [
            "Фрагменты из текстов:\n",
            "за пе коонн мея тових ми иа о  с эимдаазстчт ука ни  кнаь м  | л  н дезутоло елерс ервиылрем ьнз  ядазаныо й н ейар вя в бо\n",
            "Похожесть для первого текста 0.07478260869565218, для второго 0.06246634356488961\n"
          ],
          "name": "stdout"
        }
      ]
    },
    {
      "cell_type": "code",
      "metadata": {
        "id": "DLEY0OwJXIxl",
        "colab_type": "code",
        "colab": {}
      },
      "source": [
        "# Результаты стали хуже\n",
        "# Тестовые тексты слишком короткие, чтобы отразить частотность биграмм,\n",
        "# близкую к реальности"
      ],
      "execution_count": null,
      "outputs": []
    },
    {
      "cell_type": "markdown",
      "metadata": {
        "id": "XJqWVbZ4nhWo",
        "colab_type": "text"
      },
      "source": [
        "## 3. MCMC-сэмплирование с биграммами"
      ]
    },
    {
      "cell_type": "code",
      "metadata": {
        "id": "lbzX5nd5XI3e",
        "colab_type": "code",
        "colab": {}
      },
      "source": [
        "import numpy as np\n",
        "import re \n",
        "import copy\n",
        "from collections import Counter"
      ],
      "execution_count": null,
      "outputs": []
    },
    {
      "cell_type": "code",
      "metadata": {
        "id": "X0ZW9Nk9XI1B",
        "colab_type": "code",
        "colab": {}
      },
      "source": [
        "def decrypt(ciphertext, plaintext_alphabet, cipher_alphabet, blacklist={}):\n",
        "    \"\"\"Функция для декодирования текста\"\"\"\n",
        "\n",
        "    dec_key = dict(zip(list(cipher_alphabet),list(plaintext_alphabet)))\n",
        "    acc = []\n",
        "    for s in ciphertext:\n",
        "        if s in blacklist:\n",
        "            acc += [s]\n",
        "        else:\n",
        "            acc += [dec_key[s]]\n",
        "    plaintext = \"\".join(acc)\n",
        "    return {'cipher_alphabet' : cipher_alphabet,\n",
        "            'plaintext_alphabet' : plaintext_alphabet,\n",
        "            'plaintext' : plaintext,\n",
        "           }\n",
        "\n",
        "def process_text(filenames, regex_ignore='[^а-я ё]', regularize=True):\n",
        "    \"\"\"Функция препроцессинга. Готовит словари частот и вспомогательные матрицы\"\"\"\n",
        "\n",
        "    char_bigram_counts = Counter()\n",
        "    char_unigram_counts = Counter()\n",
        "\n",
        "    for filename in filenames:\n",
        "      with open(filename,encoding='utf-8') as f:\n",
        "          cnt = 0\n",
        "          for line in f:\n",
        "              cnt += 1\n",
        "              # if cnt % 5000 == 0: print(\"{0} строк прочитано.\".format(cnt))\n",
        "              if regex_ignore != None:\n",
        "                  pattern = re.compile(regex_ignore)\n",
        "                  s = pattern.sub('',line.lower())\n",
        "              else:\n",
        "                  s = line.lower()\n",
        "              line_length = len(s)\n",
        "              if line_length > 0:\n",
        "                  for i in range(line_length-1):\n",
        "                      char_bigram_counts[(s[i],s[i+1])] +=1\n",
        "                      char_unigram_counts[s[i]] += 1\n",
        "\n",
        "                  char_unigram_counts[s[line_length-1]] += 1 \n",
        "                \n",
        "    i_c_map = dict(enumerate([q[0] for q in sorted(list(char_unigram_counts.items()),key=lambda x: x[0])]))\n",
        "    c_i_map = {v: k for k, v in i_c_map.items()}\n",
        "\n",
        "    # Готовим матрицу переходов\n",
        "    n = len(c_i_map)\n",
        "    M = np.zeros((n,n))\n",
        "    if regularize:\n",
        "        M += 1\n",
        "        \n",
        "    for k in char_bigram_counts.keys():\n",
        "        M[c_i_map[k[0]]][c_i_map[k[1]]] = char_bigram_counts[k]\n",
        "\n",
        "    # Заменяем любые нули в строках с равномерным распределением\n",
        "    zero_rows = np.where(M.sum(axis=1) == 0.)\n",
        "    M[zero_rows,:] = 1\n",
        "    row_sums = M.sum(axis=1)\n",
        "    P = M / row_sums[:,np.newaxis]\n",
        "\n",
        "    return {'char_bigram_counts': char_bigram_counts,\n",
        "            'char_unigram_counts': char_unigram_counts,\n",
        "            'bigram_freq_matrix': M,\n",
        "            'transition_matrix': P,\n",
        "            'character_index_map': c_i_map,\n",
        "            'index_character_map': i_c_map,\n",
        "           }\n",
        "\n",
        "def likelihood(f, char_index_map, cipher, transition_mtx, blacklist={}, print_output=False):\n",
        "    \"\"\"Функция подсчета правдоподобия\"\"\"\n",
        "    n = len(cipher)\n",
        "    probs = np.zeros(n-1)\n",
        "    q = len(transition_mtx)\n",
        "    k = []\n",
        "    v = []\n",
        "    \n",
        "    for i,j in f.items():\n",
        "        k += [i]\n",
        "        v += [j]\n",
        "        \n",
        "    dec = decrypt(cipher,\"\".join(v),\"\".join(k),blacklist)['plaintext']\n",
        "    for i in range(n-1):\n",
        "        \n",
        "        # Если биграмма содержит символ, не являющийся частью шифрования, назначаем ему равномерную вероятность перехода\n",
        "        if dec[i] in blacklist or dec[i+1] in blacklist:    \n",
        "            probs[i] = 1/q\n",
        "        else:\n",
        "            probs[i] = transition_mtx[c_i_map[dec[i]]][c_i_map[dec[i+1]]]\n",
        "            \n",
        "        probs_sorted = np.sort(probs,kind='quicksort')\n",
        "\n",
        "    return {\"score\":np.sum(np.log(np.array(probs))),\"attempt\":dec}\n",
        "\n",
        "def solve_mcmc(ciphertext, usual_alphabet,code_space, trans_mtx, char_index_mapping, iters=2500, skip_chars={}):\n",
        "    \"\"\"Основная функция\"\"\"\n",
        "\n",
        "    f = dict(zip(list(code_space),list(usual_alphabet)))\n",
        "    \n",
        "    scores = [0.0]*iters\n",
        "    mappings = []\n",
        "    accepted = 0\n",
        "    for i in range(0,iters):\n",
        "\n",
        "        mappings += [f]\n",
        "\n",
        "        # Делаем случайные предсказания через перестановки\n",
        "        r1, r2 = np.random.choice(list(code_space),2,replace=True)\n",
        "        f_proposal = f.copy()\n",
        "        f_proposal[r1] = f[r2]\n",
        "        f_proposal[r2] = f[r1]\n",
        "\n",
        "        # Расшифровка с использованием текущего и предлагаемого сопоставления\n",
        "        current = likelihood(f,char_index_mapping,ciphertext,trans_mtx,blacklist=skip_chars)\n",
        "        f_prob = current['score']\n",
        "        \n",
        "        if i % 500 == 0: \n",
        "            print(\"iter:\", i,current['attempt'][:100])\n",
        "\n",
        "        f_proposal_prob = likelihood(f_proposal,char_index_mapping,ciphertext,trans_mtx,blacklist=skip_chars)['score']\n",
        "\n",
        "        # Принимаем новый вариант\n",
        "        u = random.uniform(0,1)\n",
        "        if f_proposal_prob > f_prob:\n",
        "            f = f_proposal.copy()\n",
        "            scores[i] = f_proposal_prob\n",
        "            accepted += 1\n",
        "        elif u < np.exp(f_proposal_prob - f_prob):\n",
        "            f = f_proposal.copy()\n",
        "            scores[i] = f_proposal_prob\n",
        "            accepted += 1\n",
        "        scores[i] = f_prob\n",
        "\n",
        "    best_f = mappings[np.argmax(scores)]\n",
        "    best_score = max(scores)\n",
        "    plains = []\n",
        "    ciphers = []\n",
        "\n",
        "    for k in sorted(best_f.keys()):\n",
        "        ciphers += [k]\n",
        "        plains += [best_f[k]]\n",
        "    \n",
        "    best_key = (\"\".join(plains),\"\".join(ciphers))\n",
        "    best_attempt = decrypt(ciphertext,best_key[0],best_key[1],blacklist=skip_chars)['plaintext']\n",
        "    \n",
        "    return {'num_iters':iters,\n",
        "            'plaintext':best_attempt,\n",
        "            'best_score':best_score,\n",
        "            'best_key':best_f,\n",
        "            'scores':scores,\n",
        "            'total_acceptances': accepted\n",
        "            }"
      ],
      "execution_count": null,
      "outputs": []
    },
    {
      "cell_type": "code",
      "metadata": {
        "id": "Xp6W05nV2Ned",
        "colab_type": "code",
        "colab": {}
      },
      "source": [
        "alphabet = \"абвгдеёжзийклмнопрстуфхцчшщъыьэюя \"\n",
        "\n",
        "results = process_text(['AnnaKarenina.txt', 'WarAndPeace.txt'])\n",
        "P = results['transition_matrix']\n",
        "i_c_map = results['index_character_map']\n",
        "c_i_map = results['character_index_map']"
      ],
      "execution_count": null,
      "outputs": []
    },
    {
      "cell_type": "code",
      "metadata": {
        "id": "dS95bUEB2Na6",
        "colab_type": "code",
        "colab": {
          "base_uri": "https://localhost:8080/",
          "height": 322
        },
        "outputId": "27a06cb9-7e7b-471d-f06c-957ace2f1d41"
      },
      "source": [
        "ciphertext = test_text_1_shuf\n",
        "\n",
        "init = list(alphabet).copy()\n",
        "random.shuffle(init)\n",
        "\n",
        "print(\"Зашифрованный текст:\")\n",
        "print(ciphertext, '\\n')\n",
        "\n",
        "soln = solve_mcmc(ciphertext, alphabet, init, P, c_i_map, iters=5000)\n",
        "print()\n",
        "print('Распознанный текст:', soln['plaintext'])\n",
        "print('Оценка похожести:', similarity(test_text_1, soln['plaintext']))\n",
        "print('Оригинальный текст:', test_text_1)"
      ],
      "execution_count": null,
      "outputs": [
        {
          "output_type": "stream",
          "text": [
            "Зашифрованный текст:\n",
            "щ ыкакфюыщсиаяфыфшыэуюшзаых т нажаылцыкакыктлжфяфхйыуазыуфбфыхжатсюых т кфылцыкакыктфнаяфыу ыи хазфжйых т нажыщыэуюшз ыжакыфыуюыхб эяфыж эзаыбсыфвыи ьбаяфыфыитфуюхяфыз б ьыхиютщаых т нажаыуахыё гяфхйыу ылцюыкыщюнютлы ёцфяфхйыфышаёсяфыхщ фвыт зфжюяюьыхя щу ыфвыфыуюёся ык тбфяфыбсыфвынютщгкабфыклшуюнфкабфыёляк ьыхжатсюых т кфытгз быктлжфяфхйыщы куаышаэягзсщаяфыхжлнаяфыу х быщыхжюкя ыу ых т нажаыуюыщы куаыхб жтюяфыаыщызщютйыцзаяфык эзаыбсыщызщютйыхыюз ьыщ ьзпбыфыж эзаыжакыташющаяфыктахусюытжсынж ынлжйыи и яабыуюыташтсщаяфхйыёфяфхйыщыфхжютфкюыфы таяфыцлжк ыёсяфыит ц тяфщсю \n",
            "\n",
            "iter: 0  вьёцёдйь гяцздьджьэюйжтцьквавбцфцьрльёцёьёарфдздкиьюцтьюдодькфцагйьквавёдьрльёцёьёадбцздьювьявкцтдф\n",
            "iter: 500 в стеткисвшмеркскцсгьицуеса о женесылстетстоынкркадсьеуськяксанеошиса о тксылстетстокжерксь см аеукн\n",
            "iter: 1000 о стетаисошьеласазспкизуесм в бенесырстетствыналамяскеускадасмневшисм в тасырстетствабеласк сь меуан\n",
            "iter: 1500 иу дедао итпела аг чкогше вурубене ых дед дрыналавя кеш кама внерто вуруда ых дед драбела ку пувешан\n",
            "iter: 2000 ко тетиа купели ич гначше доробеве ых тет трывилидя неш ними дверуа дороти ых тет трибели но подешив\n",
            "iter: 2500 ко вевиа купели из гназде сорочете ях вев врятилисы нед ними стеруа сорови ях вев вричели но поседит\n",
            "iter: 3000 ко вавие купали из гнезда сорочата ых вав врытились над ними старуе сорови ых вав вричали но посадит\n",
            "iter: 3500 во какие выпали из гнезда сорочата ух как крутились над ними старые сороки ух как кричали но посадит\n",
            "iter: 4000 во какие выпали из гнезда сорочата ух как крутились над ними старые сороки ух как кричали но посадит\n",
            "iter: 4500 во какие выпали из гнезда сорочата ух как крутились над ними старые сороки ух как кричали но посадит\n",
            "\n",
            "Распознанный текст: во какие выпали из гнезда сорочата уж как крутились над ними старые сороки уж как кричали но посадить сорочат в гнездо так и не смогли тогда мы их поймали и принесли домой сперва сорочата нас боялись но уже к вечеру обжились и забыли своих родителей словно их и небыло кормили мы их червяками кузнечиками булкой старые сороки рядом крутились в окна заглядывали стучали носом в стекло но сорочата не в окна смотрели а в дверь ждали когда мы в дверь с едой войдъм и тогда так разевали красные рты что чуть пополам не разрывались бились в истерике и орали жутко были прожорливые\n",
            "Оценка похожести: 0.9982608695652174\n",
            "Оригинальный текст: во какие выпали из гнезда сорочата уж как крутились над ними старые сороки уж как кричали но посадить сорочат в гнездо так и не смогли тогда мы их поймали и принесли домой сперва сорочата нас боялись но уже к вечеру обжились и забыли своих родителей словно их и небыло кормили мы их червяками кузнечиками булкой старые сороки рядом крутились в окна заглядывали стучали носом в стекло но сорочата не в окна смотрели а в дверь ждали когда мы в дверь с едой войдём и тогда так разевали красные рты что чуть пополам не разрывались бились в истерике и орали жутко были прожорливые\n"
          ],
          "name": "stdout"
        }
      ]
    },
    {
      "cell_type": "code",
      "metadata": {
        "id": "aF0d9HcyS1pP",
        "colab_type": "code",
        "colab": {
          "base_uri": "https://localhost:8080/",
          "height": 322
        },
        "outputId": "a3d571d0-a2bd-4fe3-ee52-a28d760d377e"
      },
      "source": [
        "ciphertext = test_text_2_shuf\n",
        "\n",
        "print(\"Зашифрованный текст:\")\n",
        "print(ciphertext, '\\n')\n",
        "\n",
        "soln = solve_mcmc(ciphertext, alphabet, init, P, c_i_map, iters=5000)\n",
        "print()\n",
        "print('Распознанный текст:', soln['plaintext'])\n",
        "print('Оценка похожести:', similarity(test_text_2, soln['plaintext']))\n",
        "print('Оригинальный текст:', test_text_2)"
      ],
      "execution_count": null,
      "outputs": [
        {
          "output_type": "stream",
          "text": [
            "Зашифрованный текст:\n",
            "щыи чбюыэ э ягыбптжщсюызлофыкацзсьыэют ьы яфеюжщ тгюжыжюыфяфыфусюынюя щюнюхкфюыи т кфыу шзтпщыащаужътфхжыфэт кыит бажсщаъмфьых хж гуфюышатаё жауу юыжгцкфбынлцфбыжтлз быбауфя щыилхж ьыбюнжажюяйыяъёфжюяйыэт бкфвыуаисмюуусвырташыуфхк яйк ыуюышаё жгмфьхгы ыхщ пбыфбюуффых ёакющфныуаит жфщыитфщютцюуюеыщхюэ ыбажютфаяйу э ыщ  ёмюыяфопуусьыкакфвыёсыж ыуфыёся ызлв щусвышаит х щыияъокфуыфыщ щхюыит тюваыуаынюя щюнюхжщюыхклиютзгьых щютоюуу ыи жютгщофьынюя щюнюхк юы ёяфнйюыхя цуююыхыуахжахйюьыиюжт щу ьык т ё нк ьыюзфухжщюуу ьыцюумфу ьыщытгзлычжфвыиютх уацюьыщынпбыюпыи т кыфынж ы жяфнаюжыюпы жызтлэфвыэют ющыи чбсы уаыуюырауажфкыщт зюых ёакющфнаык я зюеылык ж т э ы ёофжык таёюяйусбызлё быфыуюыи в цаыуаыбауфя щаыи бюоауу э ыуаыктах жюылхазюёусвыхжт юуфьык т ё нкаыуюыжтауцфтфжызюуйэфыкакыу шзтпщыфбюуфюылыуюпыуюё яйо юышаж ыз в зу юы уаытахнпжяфщаыу ыщы жяфнфюы жыияъокфуаыуюыхклиаыуак тбфяаынфнфк щаыщклхусбыфыхсжусбышащжтак быэзюыёсяфыэтфёкфыфыифт цкфыфыёяфусыхыж ияпусбыбахяфеюбык т ё нкаыит хж хютзюнуаыу ыхжтавыиютюзыу щсбылыуююыз щюзюуыз ыктаьу хжфыщхюыщ ктлэыбюугюжхгыаы уаыщхюыжакыцюыцфщюжыи ыхжатфукюыююыхщгшйыхыбфт бы хлмюхжщягюжхгыи ыжтазфеф уу ьыхвюбюыж щатызюуйэфыж щатык ж тлъыуатлоаюжынфнфк щыи клиагыбютжщсюызлофы уызюуйэфы жзаюжыаытюаяйусьыж щатыуюыи ялнаюжычж ыфыуахж тацфщаюжык т ё нклыщытюшляйжажюыфбюуу ык т ё нкаыя баюжыфш ётюжпуулъынфнфк щсбыктфбфуаяйулъыхвюблык т ё нкаыюзюжыщыэ т зынж ёсылшуажйыуюыфшбюуфяхгыяфыщуюоуфьыбфтыуюыж тэлъжыяфыжабылцюыфыбптжщсбфызлоабфыуюыит зюоющфяаыяфы уаыташэ таюжхгыхкаузаяыщсулцзаъмфьынфнфк щаыёюцажйыфшыэ т заыклзаыэяашаыэягзгжыжакык ухютщаж тык т ё нкаыи ёюцзаюжынфнфк щаыб зютуфхжаык уюну ыёлзлмфюынфнфк щсыитфзлбаъжыу щсюыбавфуаеффыуаыиютщсьыщшэягзыёюххбсхяюуусюыу ыитфу хгмфюыщи яуюы млжфбсьыз в зы зуак ыуаыщхгк э ывфжтюеаыуаьзпжхгыхщ гык т ё нкаы жыит хжсвыщ ит х щык ж т ьыхёюцфжы нютюзу ьыя щюеызло \n",
            "\n",
            "iter: 0 жьбеъюцьмеме аьюыхижвцьдснщьочудвпьмцхепье щгцижехациьицьщ щьщрвцькц ежцкцэощцьбехеощьрездхыжьчжчрий\n",
            "iter: 500 мебяшк епяпярыекьлдма егочиесуйгажеп ляжеяриэ дмялы дед еириеита ев рям в нси ебялясиетящгльмеумутдф\n",
            "iter: 1000 д пойке гоголы кэртдяе бащи нушбяю герою оличетдорыет те или имяе желодежесние порони мозбрэд удумтф\n",
            "iter: 1500 м пойне гоголы нёртмяе бущи кажбяю герою олицетморыет те или идяе шеломешеские пороки дозбрём амадтф\n",
            "iter: 2000 в поэне гоголя нюртвые бучи кажбый герой олицетворяет те или идые шеловешеские пороки дозбрюв авадтф\n",
            "iter: 2500 в поэне гоголя нёртвые муши кажмый герой олицетворяет те или идые человеческие пороки дозмрёв авадтю\n",
            "iter: 3000 в поэне гоголя нёртвые муши кажмый герой олицетворяет те или идые человеческие пороки дозмрёв авадтю\n",
            "iter: 3500 в поэме гоголя мёртвые души каждый герой олицетворяет те или иные человеческие пороки ноздрёв авантю\n",
            "iter: 4000 в поэме гоголя мфртвые души каждый герой олицетворяет те или иные человеческие пороки ноздрфв авантю\n",
            "iter: 4500 в поэме гоголя мфртвые души каждый герой олицетворяет те или иные человеческие пороки ноздрфв авантю\n",
            "\n",
            "Распознанный текст: в поэме гоголя мфртвые души каждый герой олицетворяет те или иные человеческие пороки ноздрфв авантюрист игрок проматывающий состояние заработанное тяжким чужим трудом манилов пустой мечтатель любитель громких напыщенных ёраз нисколько не заботящийся о свофм имении собакевич напротив приверженец всего материального вообще лишфнный каких бы то ни было духовных запросов плюшкин и вовсе прореха на человечестве скупердяй совершенно потерявший человеческое обличье сложнее с настасьей петровной коробочкой единственной женщиной в ряду этих персонажей в чфм еф порок и что отличает еф от других героев поэмы она не ёанатик вроде собакевича колодец у которого обшит корабельным дубом и не похожа на манилова помешанного на красоте усадебных строений коробочка не транжирит деньги как ноздрфв имение у неф небольшое зато доходное она расчфтлива но в отличие от плюшкина не скупа накормила чичикова вкусным и сытным завтраком где были грибки и пирожки и блины с топлфным маслицем коробочка простосердечна но страх перед новым у нее доведен до крайности все вокруг меняется а она все так же живет по старинке ее связь с миром осуществляется по традиционной схеме товар деньги товар которую нарушает чичиков покупая мертвые души он деньги отдает а реальный товар не получает это и настораживает коробочку в результате именно коробочка ломает изобретфнную чичиковым криминальную схему коробочка едет в город чтобы узнать не изменился ли внешний мир не торгуют ли там уже и мфртвыми душами не продешевила ли она разгорается скандал вынуждающий чичикова бежать из города куда глаза глядят так консерватор коробочка побеждает чичикова модерниста конечно будущие чичиковы придумают новые махинации на первый взгляд бессмысленные но приносящие вполне ощутимый доход однако на всякого хитреца найдфтся своя коробочка от простых вопросов которой сбежит очередной ловец душ\n",
            "Оценка похожести: 0.9913839526117394\n",
            "Оригинальный текст: в поэме гоголя мёртвые души каждый герой олицетворяет те или иные человеческие пороки ноздрёв авантюрист игрок проматывающий состояние заработанное тяжким чужим трудом манилов пустой мечтатель любитель громких напыщенных фраз нисколько не заботящийся о своём имении собакевич напротив приверженец всего материального вообще лишённый каких бы то ни было духовных запросов плюшкин и вовсе прореха на человечестве скупердяй совершенно потерявший человеческое обличье сложнее с настасьей петровной коробочкой единственной женщиной в ряду этих персонажей в чём её порок и что отличает её от других героев поэмы она не фанатик вроде собакевича колодец у которого обшит корабельным дубом и не похожа на манилова помешанного на красоте усадебных строений коробочка не транжирит деньги как ноздрёв имение у неё небольшое зато доходное она расчётлива но в отличие от плюшкина не скупа накормила чичикова вкусным и сытным завтраком где были грибки и пирожки и блины с топлёным маслицем коробочка простосердечна но страх перед новым у нее доведен до крайности все вокруг меняется а она все так же живет по старинке ее связь с миром осуществляется по традиционной схеме товар деньги товар которую нарушает чичиков покупая мертвые души он деньги отдает а реальный товар не получает это и настораживает коробочку в результате именно коробочка ломает изобретённую чичиковым криминальную схему коробочка едет в город чтобы узнать не изменился ли внешний мир не торгуют ли там уже и мёртвыми душами не продешевила ли она разгорается скандал вынуждающий чичикова бежать из города куда глаза глядят так консерватор коробочка побеждает чичикова модерниста конечно будущие чичиковы придумают новые махинации на первый взгляд бессмысленные но приносящие вполне ощутимый доход однако на всякого хитреца найдётся своя коробочка от простых вопросов которой сбежит очередной ловец душ\n"
          ],
          "name": "stdout"
        }
      ]
    },
    {
      "cell_type": "markdown",
      "metadata": {
        "id": "_pQ1OYIwYeGx",
        "colab_type": "text"
      },
      "source": [
        "Для обоих тестовых текстов алгоритм справился отлично, это видно и по метрике, и по самим текстам. На более длинном тексте результат ожидаемо лучше."
      ]
    },
    {
      "cell_type": "markdown",
      "metadata": {
        "id": "E1d_yPe9ZESk",
        "colab_type": "text"
      },
      "source": [
        "## 4. Расшифровка сообщения"
      ]
    },
    {
      "cell_type": "code",
      "metadata": {
        "id": "_pdoloFl2NWj",
        "colab_type": "code",
        "colab": {
          "base_uri": "https://localhost:8080/",
          "height": 1000
        },
        "outputId": "1e2e93ec-c494-47c9-b2e6-880a50c3c11d"
      },
      "source": [
        "ciphertext2 = \"\"\"დჳჵჂႨშႼႨშჂხჂჲდႨსႹႭჾႣჵისႼჰႨჂჵჂႨႲႹႧჲჂႨსႹႭჾႣჵისႼჰႨჲდႩჳჲႨჇႨႠჲႹქႹႨჳႹႹჱჶდსჂႽႨႩႹჲႹႭႼჰႨჵდქႩႹႨႲႭႹႧჂჲႣჲიႨჳႩႹႭდდႨშჳდქႹႨშႼႨშჳდႨჳხდჵႣჵჂႨႲႭႣშჂჵისႹႨჂႨႲႹჵჇႧჂჲდႨჾႣႩჳჂჾႣჵისႼჰႨჱႣჵჵႨეႣႨႲႹჳჵდხსდდႨႧდჲშდႭჲႹდႨეႣხႣსჂდႨႩჇႭჳႣႨႾႹჲႽႨႩႹსდႧსႹႨႽႨსჂႧდქႹႨსდႨႹჱდჶႣნ\"\"\"\n",
        "\n",
        "# Из-за того что длина алфавита зашифрованного текста меньше кириллицы,\n",
        "# алгоритм не справляется, но если добавить в алфавит фиктивные символы,\n",
        "# чтобы сравнять длины алфавитов, то всё начинает работать\n",
        "\n",
        "cipher_alphabet2 = ''.join(list(set(ciphertext2)))\n",
        "\n",
        "samples = []\n",
        "\n",
        "for _ in range(10):\n",
        "  init2 = list(cipher_alphabet2).copy()\n",
        "  random.shuffle(init2)\n",
        "  init2 += ['←','⇠','⇒','↟','↹','↷']\n",
        "  soln2 = solve_mcmc(ciphertext2, alphabet, init2, P, c_i_map, iters=5000)\n",
        "  samples.append(soln2['plaintext'])"
      ],
      "execution_count": null,
      "outputs": [
        {
          "output_type": "stream",
          "text": [
            "iter: 0 впхдназнадъдрвнщсётехущзйндхдносцрднщсётехущзйнрвипрнбнфрсшснпсскжвщдчнисрсёзйнхвшисноёсцдрерунписёв\n",
            "iter: 500  яденбынбезер нмсвшадомыйнеденустренмсвшадомыйнр иярнчнпрслснясскг межнисрсвыйнд лиснувстерароняисв \n",
            "iter: 1000 и недбыдбезеридмсвшанумыйденедостредмсвшанумыйдрия рдчдхрслсд сскгимеждясрсвыйднилясдовстераруд ясви\n",
            "iter: 1500 иснедцыдцечеридл вшанолыйденеду тредл вшанолыйдриясрдюдпр м дс  кжилегдя р выйднимя дув терародся ви\n",
            "iter: 2000 ивледцыдцешеридн сзалоныйделеду тредн сзалоныйдрияврдюдпр м дв  чкинегдя р сыйдлимя дус терародвя си\n",
            "iter: 2500 еслидцыдцикинедр взалорыйдилиду тнидр взалорыйднеясндюдьн м дс  чшериждя н выйдлемя дув тинанодся ве\n",
            "iter: 3000 еслидцыдцикинедр взалорыйдилиду тнидр взалорыйднеясндюдьн м дс  чшеригдя н выйдлемя дув тинанодся ве\n",
            "iter: 3500 еслидцыдцикинедр взалорыйдилиду тнидр взалорыйднеясндюдьн м дс  чшеригдя н выйдлемя дув тинанодся ве\n",
            "iter: 4000 еслидцыдцикинедр взалорыйдилиду тнидр взалорыйднеясндюдьн м дс  чшеригдя н выйдлемя дув тинанодся ве\n",
            "iter: 4500 еслодрыдропонедц взалицыйдолоду тнодц взалицыйднеясндюдьн м дс  чшецогдя н выйдлемя дув тонанидся ве\n",
            "iter: 0 нвбъпшёпшъсъунплиойкбмлёрпъбъпзифуъплиойкбмлёрпунтвупцпщуихипвииджнлъаптиуиоёрпбнхтипзоифъукумпвтион\n",
            "iter: 500  яжназдазнчне аилогужбидранжнаклсенаилогужбидрае тяеамахелэлаяллюц иншатлелодраж этлаколснеуебаятло \n",
            "iter: 1000  лжназпазндни аетогужбепранжнактяинаетогужбепраи слиачафитэталттвм енцаститопраж эстакотяниуибалсто \n",
            "iter: 1500  лжназпазнкни аетогуждепранжначтяинаетогуждепраи слиабафитэталттвм енцаститопраж эстачотяниуидалсто \n",
            "iter: 2000  лжназпазнчни аетогуждепранжнактяинаетогуждепраи слиабафитэталттвм енцаститопраж эстакотяниуидалсто \n",
            "iter: 2500  лжназпазнчни аетогуждепранжнактяинаетогуждепраи слиабафитэталттвм енцаститопраж эстакотяниуидалсто \n",
            "iter: 3000  лжназпазнчни аетогуждепранжнактяинаетогуждепраи слиабафитэталттвм енцаститопраж эстакотяниуидалсто \n",
            "iter: 3500  лжназпазнчни аетогуждепранжнактяинаетогуждепраи слиабафитэталттвм енцаститопраж эстакотяниуидалсто \n",
            "iter: 4000  лжназпазнчни аетогуждепранжнактяинаетогуждепраи слиабафитэталттвш енцаститопраж эстакотяниуидалсто \n",
            "iter: 4500  лжназпазнчни аетогуждепранжнактяинаетогуждепраи слиабащитэталттвш енцаститопраж эстакотяниуидалсто \n",
            "iter: 0 оулгечиечгкгцоемщнатлъмишеглгехщсцгемщнатлъмишецовуцережцщйщеущщфёомгдевщцщнишелойвщехнщсгцтцъеувщно\n",
            "iter: 500 оглаерыерада оетвнщилутысеалаезвк аетвнщилутысе ояг ечей вшвегввпботажеяв вныселошявезнвка и уегявно\n",
            "iter: 1000 ослиерыерикивоет нцалутычеилиех двиет нцалутычевоясвежебв м ес  пготишея в нычеломя ехн дивавуеся но\n",
            "iter: 1500 ослиерьерикивоет нцалутьшеилией двиет нцалутьшевоясвежебв м ес  пготичея в ньшеломя ейн дивавуеся но\n",
            "iter: 2000 ислоерьероковиет нчалутьшеолоей двоет нчалутьшевиясвежебв м ес  пгитоцея в ньшелимя ейн довавуеся ни\n",
            "iter: 2500 ислоерьероковиет нгалытьшеолоей двоет нгалытьшевиясвежезв м ес  пциточея в ньшелимя ейн довавыеся ни\n",
            "iter: 3000 исваерьеракатиел нговыльшеаваей дтаел нговыльшетиястезеют м ес  пцилачея т ньшевимя ейн датотыеся ни\n",
            "iter: 3500 исваерьеракатиел нговыльшеаваей дтаел нговыльшетиястезеут м ес  пцилачея т ньшевимя ейн датотыеся ни\n",
            "iter: 4000 исваерьеракатиел нговыльшеаваей дтаел нговыльшетиястезеут м ес  пцилачея т ньшевимя ейн датотыеся ни\n",
            "iter: 4500 исваерьеракатиел нговыльшеаваей дтаел нговыльшетиястезеэт м ес  пбилачея т ньшевимя ейн датотыеся ни\n",
            "iter: 0 утгйёошёойчйиуёхпкмлгщхшсёйгйёнпвийёхпкмлгщхшсёиубтиёрёъипфпётппдзухйеёбпипкшсёгуфбпёнкпвйилищётбпку\n",
            "iter: 500 мрвнегдегнынимеотаю всодценвнечткинеотаю всодцеимприелезитутерттьямоншептитадцевмуптечаткни исерптам\n",
            "iter: 1000 срунегдегнвнисеотак умодъенунечтлинеотак умодъеисприешещитытерттьясонцептитадъеусыптечатлни имерптас\n",
            "iter: 1500 сринегдегнвнусеотая имодъенинечткунеотая имодъеуспруелешутытерттьюсонщептутадъеисыптечаткну умерптас\n",
            "iter: 2000 сринегдегнкнусеотая иходценинечтвунеотая иходцеуспруелебутытерттьюсонщептутадцеисыптечатвну ухерптас\n",
            "iter: 2500 слинегдегнкнусеотая имодценинечтвунеотая имодцеусплуеребутытелттьюсонщептутадцеисыптечатвну умелптас\n",
            "iter: 3000 слинегдегнкнусеотаю имодценинечтвунеотаю имодцеусплуеребутытелттьясонщептутадцеисыптечатвну умелптас\n",
            "iter: 3500 слинегдегнкнасеотую имодценинечтванеотую имодцеасплаеребатытелттьясоншептатудцеисыптечутвна амелптус\n",
            "iter: 4000 слинегдегнкнасеотую имодъенинечтванеотую имодъеасплаерецатытелттьясоншептатудъеисыптечутвна амелптус\n",
            "iter: 4500 слинегдегнкнасеотую имодъенинечтванеотую имодъеасплаерезатытелттьясонцептатудъеисыптечутвна амелптус\n",
            "iter: 0 вцчщмлгмлщищквмнъзбёчфнгтмщчщмоъшкщмнъзбёчфнгтмквуцкмймжкъеъмцъъсхвнщамуъкъзгтмчвеуъмозъшщкёкфмцуъзв\n",
            "iter: 500 едло пы повосе ньзгалиных оло жьмсо ньзгалиных сердс я усьть дььбщеноц рьсьзых летрь жзьмосаси дрьзе\n",
            "iter: 1000 едло ты тошосе низкальный оло вимсо низкальный сердс у ясичи диибщеною рисизый лечри взимосась дризе\n",
            "iter: 1500 едли ты тишисе нозчальный или вожси нозчальный сердс у мсого дообщених росозый легро взожисась дрозе\n",
            "iter: 2000 ерли ты тишисе ноздальный или вожси ноздальный секрс у мсого рообщених косозый легко взожисась ркозе\n",
            "iter: 2500 ерли ты тизисе нодшальный или вожси нодшальный секрс у мсого рообщения косодый легко вдожисась ркоде\n",
            "iter: 3000 ерли пы пишиде ностальный или вожди ностальный декрд у ядого рообщеним кодосый легко всожидадь ркосе\n",
            "iter: 3500 ерли пы пишите носкальный или вожти носкальный тедрт я утого рообщеним дотосый легдо всожитать рдосе\n",
            "iter: 4000 ерли пы пишите носкальный или вочти носкальный тедрт я утого рообщеним дотосый легдо всочитать рдосе\n",
            "iter: 4500 ерли пы пишите носкальный или вочти носкальный тедрт у этого рообщения дотосый легдо всочитать рдосе\n",
            "iter: 0 ёлкхшсзшсхжхфёшаъуиектазйшхкхшпъдфхшаъуиектазйшфёчлфшмшвфъщъшлъъбцёахгшчъфъузйшкёщчъшпуъдхфефтшлчъуё\n",
            "iter: 500 икгонбынбороминт вшегутыйногонь дмонт вшегутыйнмискмнанфм л нк  чжитознс м выйнгилс ньв домемункс ви\n",
            "iter: 1000 итносвысводорисм бшенамыйсонось кросм бшенамыйсриятрсюспр л ст  жчимоуся р быйсниля сьб корерастя би\n",
            "iter: 1500 ивностыстодорисл бщеналыйсонось кросл бщеналыйсрияврсзспр м св  жчилоуся р быйснимя сьб корерасвя би\n",
            "iter: 2000 ивностыстодорисл бщеналыйсонось кросл бщеналыйсрияврсюспр м св  чжилоуся р быйснимя сьб корерасвя би\n",
            "iter: 2500 ивностыстошорисл бщеналыйсонось дросл бщеналыйсрияврсюспр м св  жчилоуся р быйснимя сьб дорерасвя би\n",
            "iter: 3000 ивностыстошорисл бщеналыйсонось дросл бщеналыйсрияврсюспр м св  жцилоуся р быйснимя сьб дорерасвя би\n",
            "iter: 3500 ивностыстошорисл бщеналыйсонось дросл бщеналыйсрияврсюспр м св  жцилоуся р быйснимя сьб дорерасвя би\n",
            "iter: 4000 ивностыстошорисл бщеналыйсонось дросл бщеналыйсрияврсюспр м св  жцилоуся р быйснимя сьб дорерасвя би\n",
            "iter: 4500 евностыстошоресл бщиналыйсонось дросл бщиналыйсреяврсюспр м св  жчелоуся р быйснемя сьб дорирасвя бе\n",
            "iter: 0 ебтцлислицдцщеланёхвтшасчлцтцлфнкщцланёхвтшасчлщепбщлолрщнмнлбннйгеацулпнщнёсчлтемпнлфёнкцщвщшлбпнёе\n",
            "iter: 500 езан ус уншнре ликоваглсё нан питрн ликоваглсё реязр ч фрими зиидцелню яириксё аемяи пкитнрврг зяике\n",
            "iter: 1000 ебик ус укякре лонавиглсь кик потрк лонавиглсь рембр ч хрозо боодцелкю моронсь иезмо пноткрврг бмоне\n",
            "iter: 1500 ебик ус укшкле норавизнсь кик потлк норавизнсь лембл ч флого боодценкю молорсь иегмо протклвлз бморе\n",
            "iter: 2000 ебик ут укшксе норавичнть кик помск норавичнть селбс я жсого боодценкю лосорть иегло промксвсч блоре\n",
            "iter: 2500 есиа дт дашале норувичнть аиа помла норувичнть лексл ю жлого сообценая колорть иегко промалвлч скоре\n",
            "iter: 3000 едса ит иашале норувскнть аса почла норувскнть лемдл ю элого дообценая молорть сегмо прочалвлк дморе\n",
            "iter: 3500 едса ит иашале норувскнть аса почла норувскнть легдл ю эломо дообценая голорть семго прочалвлк дгоре\n",
            "iter: 4000 едса ит иашале норувскнть аса почла норувскнть легдл ю эломо дообщеная голорть семго прочалвлк дгоре\n",
            "iter: 4500 едса ит иашале норувскнть аса почла норувскнть легдл ю эломо дообщеная голорть семго прочалвлк дгоре\n",
            "iter: 0 шстмиудиумзмфшижабцчтнждримтмигапфмижабцчтнждрифшвсфийищфаёаисааъошжмкивафабдритшёваигбапмфчфнисвабш\n",
            "iter: 500 лдитогрогтчталоеных имеркотитобнсатоеных имеркоалядаозофаньнодннуюлетпоянаныркоильянобынста амодяныл\n",
            "iter: 1000 тдилогроглчлатоеный имерколилобнсалоеный имеркоатядаовофаньнодннуютелпоянаныркоитьянобынсла амодяныт\n",
            "iter: 1500 тдилогроглчлатоеных имерколилобнсалоеных имеркоатядаовозаньнодннуютелпоянаныркоитьянобынсла амодяныт\n",
            "iter: 2000 тдилогроглчлатоеный имерколилобнсалоеный имеркоатядаовощаньнодннуютелпоянаныркоитьянобынсла амодяныт\n",
            "iter: 2500 тдилогроглчлатоеных имерколилобнсалоеных имеркоатядаовощаньнодннуютелпоянаныркоитьянобынсла амодяныт\n",
            "iter: 3000 тдилогроглчлатоеный имерколилобнсалоеный имеркоатядаовошаньнодннуютелпоянаныркоитьянобынсла амодяныт\n",
            "iter: 3500 тдилогроглчлатоеный имерколилобнсалоеный имеркоатядаовозаньнодннуютелпоянаныркоитьянобынсла амодяныт\n",
            "iter: 4000 тдилогроглчлатоеный имерколилобнсалоеный имеркоатядаовошаньнодннуютелпоянаныркоитьянобынсла амодяныт\n",
            "iter: 4500 тдилогроглчлатоеных имерколилобнсалоеных имеркоатядаовозаньнодннуютелпоянаныркоитьянобынсла амодяныт\n",
            "iter: 0 окедгтйгтдидчогршблвемрйщгдедгашцчдгршблвемрйщгчоскчгъгнчшёшгкшшжхордугсшчшбйщгеоёсшгабшцдчвчмгксшбо\n",
            "iter: 500 окинсьмсьнжнросдазя ийдмеснинсвагрнсдазя ийдмесроткрсцсюрачаскаалбоднустаразмесиочтасвзагнр рйсктазо\n",
            "iter: 1000 оки сьесь ж росдазянийделс и свагр сдазянийделсроткрсысмрашаскаабход устаразелсиоштасвзаг рнрйсктазо\n",
            "iter: 1500 оки сьысь ж росдазяниюдылс и свагр сдазяниюдылсроткрсесёрамаскаапбод устаразылсиомтасвзаг рнрюсктазо\n",
            "iter: 2000 оки сьесь ж росдазлниюдейс и свагр сдазлниюдейсроткрсясфрачаскаамбод устаразейсиочтасвзаг рнрюсктазо\n",
            "iter: 2500  книсьесьижил сдазбонудейсинисвамлисдазбонудейсл тклсясылачаскаарг диюсталазейсн чтасвзамилолусктаз \n",
            "iter: 3000  книсьесьижил сдазгонудейсинисвамлисдазгонудейсл тклсясылачаскаарб диюсталазейсн чтасвзамилолусктаз \n",
            "iter: 3500  кнесьисьехел смазгонумийсенесвадлесмазгонумийсл тклсясылачаскаарб меюсталазийсн чтасвзаделолусктаз \n",
            "iter: 4000  кнесьисьебел смазгонумийсенесвадлесмазгонумийсл тклсясылачаскаахр меюсталазийсн чтасвзаделолусктаз \n",
            "iter: 4500  кнесьисьерел смазгонымийсенесвадлесмазгонымийсл тклсясулачаскаахц меюсталазийсн чтасвзаделолысктаз \n",
            "iter: 0 фщмспднпдсбсжфпуцклтмёунъпсмспгцхжспуцклтмёунъпжфшщжпзпвжцицпщццаофусйпшцжцкнъпмфишцпгкцхсжтжёпщшцкф\n",
            "iter: 500  яводсьдсотол дназживеньюдоводрахлодназживеньюдл мялдудфлакадяаацб ногдмалазьюдв кмадрзахолиледямаз \n",
            "iter: 1000  ятидсьдсимив длазжетольюдитидрахвидлазжетольюдв нявдудывакадяаашб лигднавазьюдт кнадрзахивеводяназ \n",
            "iter: 1500  ятодсьдсомов длазжетильюдотодрахводлазжетильюдв нявдудывакадяаашб логднавазьюдт кнадрзаховевидяназ \n",
            "iter: 2000  имодтьдтохов длазбемульюдомодрасводлазбемульюдв нивдядывакадиаачш логднавазьюдм кнадрзасовевудиназ \n",
            "iter: 2500  имодльдлочов дтазжемутьюдомодрасводтазжемутьюдв нивдядывакадиаабх тогднавазьюдм кнадрзасовевудиназ \n",
            "iter: 3000  имодльдлочов дтазжемутьюдомодрасводтазжемутьюдв нивдядывакадиаашц тогднавазьюдм кнадрзасовевудиназ \n",
            "iter: 3500  имадльдлачав дтоспемутьюдамадрозвадтоспемутьюдв нивдядывокодиоошж тагдновосьюдм кнодрсозавевудинос \n",
            "iter: 4000  инастьстабав слорпенульюсанаскозваслорпенульюсв мивсясыводосиоошч лафсмоворьюсн дмоскрозавевусимор \n",
            "iter: 4500  имастьстабав слоршемульюсамаскозваслоршемульюсв нивсясывогосиоочц ладсноворьюсм гноскрозавевусинор \n"
          ],
          "name": "stdout"
        }
      ]
    },
    {
      "cell_type": "code",
      "metadata": {
        "id": "cdvpVzYQ2-P_",
        "colab_type": "code",
        "colab": {
          "base_uri": "https://localhost:8080/",
          "height": 205
        },
        "outputId": "012b9d91-f5a3-47e2-95d3-45b80ebe95ef"
      },
      "source": [
        "samples"
      ],
      "execution_count": null,
      "outputs": [
        {
          "output_type": "execute_result",
          "data": {
            "text/plain": [
              "['еслодцыдцопонедр взалирыйдолоду тнодр взалирыйднеясндюдьн м дс  чшерогдя н выйдлемя дув тонанидся веедцсем дцыдцседспелалодувацолир доду лютонедзаясозалирыйдчаллдкаду слепреедтенцевн едкапароедяювсадх нгдя ретр дгдротем дред чешаж',\n",
              " ' лжназпазнчни аетогуждепранжнактяинаетогуждепраи слиабафитэталттвх енцаститопраж эстакотяниуидалсто  азл этазпазл алч жужнакоузнждетанактжбяни агуслнгуждеправужжамуактлж че  ая из оит амучуен асболуайтицасте яетацаеня этае атв хую',\n",
              " 'исваерьеракатиел нговыльшеаваей дтаел нговыльшетиястезеут м ес  пцилачея т ньшевимя ейн датотыеся нииерсим ерьерсиескивоваейноравыл еаей вздатиегоясаговыльшеповвебоей свиклииедитринт иебоколаиеязнсоею тчея лидл ечеладим елие пицож',\n",
              " 'слинегдегнкнасеотую имодъенинечтванеотую имодъеасплаерезатытелттьясонцептатудъеисыптечутвна амелптуссеглсытегдеглселкси инечу гнимотенечтирвнасею плню имодъеь иией ечтлискоссевсагсуатсей к онсепрул ештацептосвотецеонвсытеосеться б',\n",
              " 'если вы вишите нордальный или почти нордальный текст у этого сообмения который легко прочитать скорее всего вы все сшелали правильно и получите даксидальный балл за послешнее четвертое зашание курса хотя конечно я ничего не обемац',\n",
              " 'евностыстошоресл бщиналыйсонось дросл бщиналыйсреяврсюспр м св  жчелоуся р быйснемя сьб дорирасвя беествем стыствесвшениносьбитонал сось нюдоресщиявощиналыйсжиннскись внешлеесдертебр ескишилоесяюбвисё руся ледл суслодем слес жечиз',\n",
              " 'едси ут уишиле норчаскнть иси побли норчаскнть легдл ю эломо доовщения голорть семго пробилалк дгорее удемо ут уде дшесаси прауискно и посюбиле чагдичаскнть васс за подсешнее белуерлое зашание гюрда холя гонебно я нибемо не овещаж',\n",
              " 'тдилогроглчлатоеный имерколилобнсалоеный имеркоатядаовозаньнодннуютелпоянаныркоитьянобынсла амодяныттогдтьногрогдтодчти илобы глименолобнивслатой ядлй имеркоу ииох обндитчеттостагтыантох ч елтоявыд ожнапоянетсенопоелстьноетонутю э',\n",
              " ' кнесьисьерел смазгонымийсенесвадлесмазгонымийсл тклсусялачаскаахш меюсталазийсн чтасвзаделолысктаз  ськ часьиськ скр нонесвзоьенымасесванудел сготкегонымийсхоннспосвакн рм  сд ль зла спороме стузкосцалюстам дмасюсмед часм сах шоб',\n",
              " ' имастьстачав слоршемыльюсамаскозваслоршемыльюсв нивсясдвогосиообх лаусноворьюсм гноскрозавевысинор  сти гостьсти сич мемаскретамылосаскомязав сшениашемыльюсбеммспескоим чл  сз вт рво спечела сняриесцовуснол злосуслаз госл соб хей']"
            ]
          },
          "metadata": {
            "tags": []
          },
          "execution_count": 174
        }
      ]
    },
    {
      "cell_type": "code",
      "metadata": {
        "id": "hrW7Lp-M2-h-",
        "colab_type": "code",
        "colab": {
          "base_uri": "https://localhost:8080/",
          "height": 154
        },
        "outputId": "710b135a-e66e-4c74-b35e-98cbbcb9bb8c"
      },
      "source": [
        "print('Наиболее удачный сэмпл оказался этим — ', samples[4], '\\n')\n",
        "print('Если доперевести руками, то получится — ',\n",
        "      \"\"\"\n",
        "      если вы видите нормальный или почти нормальный текст у этого сообщения который \n",
        "      легко прочитать скорее всего вы все сделали правильно и получите максимальный \n",
        "      балл за последнее четвертое задание курса хотя конечно я ничего не обещаю\n",
        "      \"\"\"\n",
        "      )"
      ],
      "execution_count": null,
      "outputs": [
        {
          "output_type": "stream",
          "text": [
            "Наиболее удачный сэмпл оказался этим —  если вы вишите нордальный или почти нордальный текст у этого сообмения который легко прочитать скорее всего вы все сшелали правильно и получите даксидальный балл за послешнее четвертое зашание курса хотя конечно я ничего не обемац \n",
            "\n",
            "Если доперевести руками, то получится —  \n",
            "      если вы видите нормальный или почти нормальный текст у этого сообщения который \n",
            "      легко прочитать скорее всего вы все сделали правильно и получите максимальный \n",
            "      балл за последнее четвертое задание курса хотя конечно я ничего не обещаю\n",
            "      \n"
          ],
          "name": "stdout"
        }
      ]
    },
    {
      "cell_type": "markdown",
      "metadata": {
        "id": "_leaKvNDfDdZ",
        "colab_type": "text"
      },
      "source": [
        "Расшифровать текст всё же вышло, хотя и пришлось нагенерировать несколько вариантов."
      ]
    },
    {
      "cell_type": "markdown",
      "metadata": {
        "id": "k9HzDYSRfQmX",
        "colab_type": "text"
      },
      "source": [
        "## 6. Придумки применений модели\n",
        "\n",
        "Наверно, модель подойдет для расшифровки каких-нибудь старых зашифрованных сообщений, например военных. Из модели можно сделать онлайн сервис для расшифровки неизвестных кодировок.\n",
        "\n",
        "Наверно, можно даже сделать какую-нибудь плохую модель машинного перевода типа seq2seq."
      ]
    }
  ]
}