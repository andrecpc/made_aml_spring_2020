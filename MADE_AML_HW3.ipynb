{
  "nbformat": 4,
  "nbformat_minor": 0,
  "metadata": {
    "colab": {
      "name": "MADE AML HW3 Педченко Андрей Заочно.ipynb",
      "provenance": [],
      "collapsed_sections": []
    },
    "kernelspec": {
      "name": "python3",
      "display_name": "Python 3"
    },
    "widgets": {
      "application/vnd.jupyter.widget-state+json": {
        "b37e6abc4cfc4463b79c62fbdc31a691": {
          "model_module": "@jupyter-widgets/controls",
          "model_name": "HBoxModel",
          "state": {
            "_view_name": "HBoxView",
            "_dom_classes": [],
            "_model_name": "HBoxModel",
            "_view_module": "@jupyter-widgets/controls",
            "_model_module_version": "1.5.0",
            "_view_count": null,
            "_view_module_version": "1.5.0",
            "box_style": "",
            "layout": "IPY_MODEL_e3489192aa6e4291a42854e437f72a67",
            "_model_module": "@jupyter-widgets/controls",
            "children": [
              "IPY_MODEL_422808fbe97844c6b85b44aa2f7b2959",
              "IPY_MODEL_28a1a2d59f3243b28581d473c2f71e1a"
            ]
          }
        },
        "e3489192aa6e4291a42854e437f72a67": {
          "model_module": "@jupyter-widgets/base",
          "model_name": "LayoutModel",
          "state": {
            "_view_name": "LayoutView",
            "grid_template_rows": null,
            "right": null,
            "justify_content": null,
            "_view_module": "@jupyter-widgets/base",
            "overflow": null,
            "_model_module_version": "1.2.0",
            "_view_count": null,
            "flex_flow": null,
            "width": null,
            "min_width": null,
            "border": null,
            "align_items": null,
            "bottom": null,
            "_model_module": "@jupyter-widgets/base",
            "top": null,
            "grid_column": null,
            "overflow_y": null,
            "overflow_x": null,
            "grid_auto_flow": null,
            "grid_area": null,
            "grid_template_columns": null,
            "flex": null,
            "_model_name": "LayoutModel",
            "justify_items": null,
            "grid_row": null,
            "max_height": null,
            "align_content": null,
            "visibility": null,
            "align_self": null,
            "height": null,
            "min_height": null,
            "padding": null,
            "grid_auto_rows": null,
            "grid_gap": null,
            "max_width": null,
            "order": null,
            "_view_module_version": "1.2.0",
            "grid_template_areas": null,
            "object_position": null,
            "object_fit": null,
            "grid_auto_columns": null,
            "margin": null,
            "display": null,
            "left": null
          }
        },
        "422808fbe97844c6b85b44aa2f7b2959": {
          "model_module": "@jupyter-widgets/controls",
          "model_name": "FloatProgressModel",
          "state": {
            "_view_name": "ProgressView",
            "style": "IPY_MODEL_2841045337aa4cb6a648fe42545a8a0a",
            "_dom_classes": [],
            "description": "100%",
            "_model_name": "FloatProgressModel",
            "bar_style": "success",
            "max": 2661,
            "_view_module": "@jupyter-widgets/controls",
            "_model_module_version": "1.5.0",
            "value": 2661,
            "_view_count": null,
            "_view_module_version": "1.5.0",
            "orientation": "horizontal",
            "min": 0,
            "description_tooltip": null,
            "_model_module": "@jupyter-widgets/controls",
            "layout": "IPY_MODEL_321c940e67644e60bd3812950dcfc9b8"
          }
        },
        "28a1a2d59f3243b28581d473c2f71e1a": {
          "model_module": "@jupyter-widgets/controls",
          "model_name": "HTMLModel",
          "state": {
            "_view_name": "HTMLView",
            "style": "IPY_MODEL_5ae25981ef814e16a60dcd9383f143e7",
            "_dom_classes": [],
            "description": "",
            "_model_name": "HTMLModel",
            "placeholder": "​",
            "_view_module": "@jupyter-widgets/controls",
            "_model_module_version": "1.5.0",
            "value": " 2661/2661 [33:53&lt;00:00,  1.31it/s]",
            "_view_count": null,
            "_view_module_version": "1.5.0",
            "description_tooltip": null,
            "_model_module": "@jupyter-widgets/controls",
            "layout": "IPY_MODEL_000355115852436aac3a6956eac2c4cb"
          }
        },
        "2841045337aa4cb6a648fe42545a8a0a": {
          "model_module": "@jupyter-widgets/controls",
          "model_name": "ProgressStyleModel",
          "state": {
            "_view_name": "StyleView",
            "_model_name": "ProgressStyleModel",
            "description_width": "initial",
            "_view_module": "@jupyter-widgets/base",
            "_model_module_version": "1.5.0",
            "_view_count": null,
            "_view_module_version": "1.2.0",
            "bar_color": null,
            "_model_module": "@jupyter-widgets/controls"
          }
        },
        "321c940e67644e60bd3812950dcfc9b8": {
          "model_module": "@jupyter-widgets/base",
          "model_name": "LayoutModel",
          "state": {
            "_view_name": "LayoutView",
            "grid_template_rows": null,
            "right": null,
            "justify_content": null,
            "_view_module": "@jupyter-widgets/base",
            "overflow": null,
            "_model_module_version": "1.2.0",
            "_view_count": null,
            "flex_flow": null,
            "width": null,
            "min_width": null,
            "border": null,
            "align_items": null,
            "bottom": null,
            "_model_module": "@jupyter-widgets/base",
            "top": null,
            "grid_column": null,
            "overflow_y": null,
            "overflow_x": null,
            "grid_auto_flow": null,
            "grid_area": null,
            "grid_template_columns": null,
            "flex": null,
            "_model_name": "LayoutModel",
            "justify_items": null,
            "grid_row": null,
            "max_height": null,
            "align_content": null,
            "visibility": null,
            "align_self": null,
            "height": null,
            "min_height": null,
            "padding": null,
            "grid_auto_rows": null,
            "grid_gap": null,
            "max_width": null,
            "order": null,
            "_view_module_version": "1.2.0",
            "grid_template_areas": null,
            "object_position": null,
            "object_fit": null,
            "grid_auto_columns": null,
            "margin": null,
            "display": null,
            "left": null
          }
        },
        "5ae25981ef814e16a60dcd9383f143e7": {
          "model_module": "@jupyter-widgets/controls",
          "model_name": "DescriptionStyleModel",
          "state": {
            "_view_name": "StyleView",
            "_model_name": "DescriptionStyleModel",
            "description_width": "",
            "_view_module": "@jupyter-widgets/base",
            "_model_module_version": "1.5.0",
            "_view_count": null,
            "_view_module_version": "1.2.0",
            "_model_module": "@jupyter-widgets/controls"
          }
        },
        "000355115852436aac3a6956eac2c4cb": {
          "model_module": "@jupyter-widgets/base",
          "model_name": "LayoutModel",
          "state": {
            "_view_name": "LayoutView",
            "grid_template_rows": null,
            "right": null,
            "justify_content": null,
            "_view_module": "@jupyter-widgets/base",
            "overflow": null,
            "_model_module_version": "1.2.0",
            "_view_count": null,
            "flex_flow": null,
            "width": null,
            "min_width": null,
            "border": null,
            "align_items": null,
            "bottom": null,
            "_model_module": "@jupyter-widgets/base",
            "top": null,
            "grid_column": null,
            "overflow_y": null,
            "overflow_x": null,
            "grid_auto_flow": null,
            "grid_area": null,
            "grid_template_columns": null,
            "flex": null,
            "_model_name": "LayoutModel",
            "justify_items": null,
            "grid_row": null,
            "max_height": null,
            "align_content": null,
            "visibility": null,
            "align_self": null,
            "height": null,
            "min_height": null,
            "padding": null,
            "grid_auto_rows": null,
            "grid_gap": null,
            "max_width": null,
            "order": null,
            "_view_module_version": "1.2.0",
            "grid_template_areas": null,
            "object_position": null,
            "object_fit": null,
            "grid_auto_columns": null,
            "margin": null,
            "display": null,
            "left": null
          }
        },
        "89b5ae2ef306440583d7cc5c72204172": {
          "model_module": "@jupyter-widgets/controls",
          "model_name": "HBoxModel",
          "state": {
            "_view_name": "HBoxView",
            "_dom_classes": [],
            "_model_name": "HBoxModel",
            "_view_module": "@jupyter-widgets/controls",
            "_model_module_version": "1.5.0",
            "_view_count": null,
            "_view_module_version": "1.5.0",
            "box_style": "",
            "layout": "IPY_MODEL_d37b8243b6654861a8bde31bc731662c",
            "_model_module": "@jupyter-widgets/controls",
            "children": [
              "IPY_MODEL_f7e885ea35fc450eb8f5552656bbfe70",
              "IPY_MODEL_731de2db6607439bb955055926fcefdc"
            ]
          }
        },
        "d37b8243b6654861a8bde31bc731662c": {
          "model_module": "@jupyter-widgets/base",
          "model_name": "LayoutModel",
          "state": {
            "_view_name": "LayoutView",
            "grid_template_rows": null,
            "right": null,
            "justify_content": null,
            "_view_module": "@jupyter-widgets/base",
            "overflow": null,
            "_model_module_version": "1.2.0",
            "_view_count": null,
            "flex_flow": null,
            "width": null,
            "min_width": null,
            "border": null,
            "align_items": null,
            "bottom": null,
            "_model_module": "@jupyter-widgets/base",
            "top": null,
            "grid_column": null,
            "overflow_y": null,
            "overflow_x": null,
            "grid_auto_flow": null,
            "grid_area": null,
            "grid_template_columns": null,
            "flex": null,
            "_model_name": "LayoutModel",
            "justify_items": null,
            "grid_row": null,
            "max_height": null,
            "align_content": null,
            "visibility": null,
            "align_self": null,
            "height": null,
            "min_height": null,
            "padding": null,
            "grid_auto_rows": null,
            "grid_gap": null,
            "max_width": null,
            "order": null,
            "_view_module_version": "1.2.0",
            "grid_template_areas": null,
            "object_position": null,
            "object_fit": null,
            "grid_auto_columns": null,
            "margin": null,
            "display": null,
            "left": null
          }
        },
        "f7e885ea35fc450eb8f5552656bbfe70": {
          "model_module": "@jupyter-widgets/controls",
          "model_name": "FloatProgressModel",
          "state": {
            "_view_name": "ProgressView",
            "style": "IPY_MODEL_d79aa8b4a1e14779994c2323510c785d",
            "_dom_classes": [],
            "description": "100%",
            "_model_name": "FloatProgressModel",
            "bar_style": "success",
            "max": 126304,
            "_view_module": "@jupyter-widgets/controls",
            "_model_module_version": "1.5.0",
            "value": 126304,
            "_view_count": null,
            "_view_module_version": "1.5.0",
            "orientation": "horizontal",
            "min": 0,
            "description_tooltip": null,
            "_model_module": "@jupyter-widgets/controls",
            "layout": "IPY_MODEL_1567caa0b4894cce8fc732985f935ae2"
          }
        },
        "731de2db6607439bb955055926fcefdc": {
          "model_module": "@jupyter-widgets/controls",
          "model_name": "HTMLModel",
          "state": {
            "_view_name": "HTMLView",
            "style": "IPY_MODEL_9242f8b300ef465b8c48f046fe9411b6",
            "_dom_classes": [],
            "description": "",
            "_model_name": "HTMLModel",
            "placeholder": "​",
            "_view_module": "@jupyter-widgets/controls",
            "_model_module_version": "1.5.0",
            "value": " 126304/126304 [01:54&lt;00:00, 1106.44it/s]",
            "_view_count": null,
            "_view_module_version": "1.5.0",
            "description_tooltip": null,
            "_model_module": "@jupyter-widgets/controls",
            "layout": "IPY_MODEL_7effe7cedda64c29992758316cbb1bda"
          }
        },
        "d79aa8b4a1e14779994c2323510c785d": {
          "model_module": "@jupyter-widgets/controls",
          "model_name": "ProgressStyleModel",
          "state": {
            "_view_name": "StyleView",
            "_model_name": "ProgressStyleModel",
            "description_width": "initial",
            "_view_module": "@jupyter-widgets/base",
            "_model_module_version": "1.5.0",
            "_view_count": null,
            "_view_module_version": "1.2.0",
            "bar_color": null,
            "_model_module": "@jupyter-widgets/controls"
          }
        },
        "1567caa0b4894cce8fc732985f935ae2": {
          "model_module": "@jupyter-widgets/base",
          "model_name": "LayoutModel",
          "state": {
            "_view_name": "LayoutView",
            "grid_template_rows": null,
            "right": null,
            "justify_content": null,
            "_view_module": "@jupyter-widgets/base",
            "overflow": null,
            "_model_module_version": "1.2.0",
            "_view_count": null,
            "flex_flow": null,
            "width": null,
            "min_width": null,
            "border": null,
            "align_items": null,
            "bottom": null,
            "_model_module": "@jupyter-widgets/base",
            "top": null,
            "grid_column": null,
            "overflow_y": null,
            "overflow_x": null,
            "grid_auto_flow": null,
            "grid_area": null,
            "grid_template_columns": null,
            "flex": null,
            "_model_name": "LayoutModel",
            "justify_items": null,
            "grid_row": null,
            "max_height": null,
            "align_content": null,
            "visibility": null,
            "align_self": null,
            "height": null,
            "min_height": null,
            "padding": null,
            "grid_auto_rows": null,
            "grid_gap": null,
            "max_width": null,
            "order": null,
            "_view_module_version": "1.2.0",
            "grid_template_areas": null,
            "object_position": null,
            "object_fit": null,
            "grid_auto_columns": null,
            "margin": null,
            "display": null,
            "left": null
          }
        },
        "9242f8b300ef465b8c48f046fe9411b6": {
          "model_module": "@jupyter-widgets/controls",
          "model_name": "DescriptionStyleModel",
          "state": {
            "_view_name": "StyleView",
            "_model_name": "DescriptionStyleModel",
            "description_width": "",
            "_view_module": "@jupyter-widgets/base",
            "_model_module_version": "1.5.0",
            "_view_count": null,
            "_view_module_version": "1.2.0",
            "_model_module": "@jupyter-widgets/controls"
          }
        },
        "7effe7cedda64c29992758316cbb1bda": {
          "model_module": "@jupyter-widgets/base",
          "model_name": "LayoutModel",
          "state": {
            "_view_name": "LayoutView",
            "grid_template_rows": null,
            "right": null,
            "justify_content": null,
            "_view_module": "@jupyter-widgets/base",
            "overflow": null,
            "_model_module_version": "1.2.0",
            "_view_count": null,
            "flex_flow": null,
            "width": null,
            "min_width": null,
            "border": null,
            "align_items": null,
            "bottom": null,
            "_model_module": "@jupyter-widgets/base",
            "top": null,
            "grid_column": null,
            "overflow_y": null,
            "overflow_x": null,
            "grid_auto_flow": null,
            "grid_area": null,
            "grid_template_columns": null,
            "flex": null,
            "_model_name": "LayoutModel",
            "justify_items": null,
            "grid_row": null,
            "max_height": null,
            "align_content": null,
            "visibility": null,
            "align_self": null,
            "height": null,
            "min_height": null,
            "padding": null,
            "grid_auto_rows": null,
            "grid_gap": null,
            "max_width": null,
            "order": null,
            "_view_module_version": "1.2.0",
            "grid_template_areas": null,
            "object_position": null,
            "object_fit": null,
            "grid_auto_columns": null,
            "margin": null,
            "display": null,
            "left": null
          }
        },
        "7299fc49d64248eb97dcfe8992b249dc": {
          "model_module": "@jupyter-widgets/controls",
          "model_name": "HBoxModel",
          "state": {
            "_view_name": "HBoxView",
            "_dom_classes": [],
            "_model_name": "HBoxModel",
            "_view_module": "@jupyter-widgets/controls",
            "_model_module_version": "1.5.0",
            "_view_count": null,
            "_view_module_version": "1.5.0",
            "box_style": "",
            "layout": "IPY_MODEL_402f183464e7416caf0bc13a007815e7",
            "_model_module": "@jupyter-widgets/controls",
            "children": [
              "IPY_MODEL_56da01ffbd6c46838fc2fca27b6f8edf",
              "IPY_MODEL_eb5aff5da8b64f5cab6caa172ba077c2"
            ]
          }
        },
        "402f183464e7416caf0bc13a007815e7": {
          "model_module": "@jupyter-widgets/base",
          "model_name": "LayoutModel",
          "state": {
            "_view_name": "LayoutView",
            "grid_template_rows": null,
            "right": null,
            "justify_content": null,
            "_view_module": "@jupyter-widgets/base",
            "overflow": null,
            "_model_module_version": "1.2.0",
            "_view_count": null,
            "flex_flow": null,
            "width": null,
            "min_width": null,
            "border": null,
            "align_items": null,
            "bottom": null,
            "_model_module": "@jupyter-widgets/base",
            "top": null,
            "grid_column": null,
            "overflow_y": null,
            "overflow_x": null,
            "grid_auto_flow": null,
            "grid_area": null,
            "grid_template_columns": null,
            "flex": null,
            "_model_name": "LayoutModel",
            "justify_items": null,
            "grid_row": null,
            "max_height": null,
            "align_content": null,
            "visibility": null,
            "align_self": null,
            "height": null,
            "min_height": null,
            "padding": null,
            "grid_auto_rows": null,
            "grid_gap": null,
            "max_width": null,
            "order": null,
            "_view_module_version": "1.2.0",
            "grid_template_areas": null,
            "object_position": null,
            "object_fit": null,
            "grid_auto_columns": null,
            "margin": null,
            "display": null,
            "left": null
          }
        },
        "56da01ffbd6c46838fc2fca27b6f8edf": {
          "model_module": "@jupyter-widgets/controls",
          "model_name": "FloatProgressModel",
          "state": {
            "_view_name": "ProgressView",
            "style": "IPY_MODEL_587d96ea837d41f9a9301c62639cdbf9",
            "_dom_classes": [],
            "description": "100%",
            "_model_name": "FloatProgressModel",
            "bar_style": "success",
            "max": 2661,
            "_view_module": "@jupyter-widgets/controls",
            "_model_module_version": "1.5.0",
            "value": 2661,
            "_view_count": null,
            "_view_module_version": "1.5.0",
            "orientation": "horizontal",
            "min": 0,
            "description_tooltip": null,
            "_model_module": "@jupyter-widgets/controls",
            "layout": "IPY_MODEL_af5b8e69fe5d4de6901b6bb25235b95a"
          }
        },
        "eb5aff5da8b64f5cab6caa172ba077c2": {
          "model_module": "@jupyter-widgets/controls",
          "model_name": "HTMLModel",
          "state": {
            "_view_name": "HTMLView",
            "style": "IPY_MODEL_a0fa05570d764f029c87884aca7c7685",
            "_dom_classes": [],
            "description": "",
            "_model_name": "HTMLModel",
            "placeholder": "​",
            "_view_module": "@jupyter-widgets/controls",
            "_model_module_version": "1.5.0",
            "value": " 2661/2661 [01:54&lt;00:00, 23.34it/s]",
            "_view_count": null,
            "_view_module_version": "1.5.0",
            "description_tooltip": null,
            "_model_module": "@jupyter-widgets/controls",
            "layout": "IPY_MODEL_e5d8c21c546e476b9eae049820bdf6fd"
          }
        },
        "587d96ea837d41f9a9301c62639cdbf9": {
          "model_module": "@jupyter-widgets/controls",
          "model_name": "ProgressStyleModel",
          "state": {
            "_view_name": "StyleView",
            "_model_name": "ProgressStyleModel",
            "description_width": "initial",
            "_view_module": "@jupyter-widgets/base",
            "_model_module_version": "1.5.0",
            "_view_count": null,
            "_view_module_version": "1.2.0",
            "bar_color": null,
            "_model_module": "@jupyter-widgets/controls"
          }
        },
        "af5b8e69fe5d4de6901b6bb25235b95a": {
          "model_module": "@jupyter-widgets/base",
          "model_name": "LayoutModel",
          "state": {
            "_view_name": "LayoutView",
            "grid_template_rows": null,
            "right": null,
            "justify_content": null,
            "_view_module": "@jupyter-widgets/base",
            "overflow": null,
            "_model_module_version": "1.2.0",
            "_view_count": null,
            "flex_flow": null,
            "width": null,
            "min_width": null,
            "border": null,
            "align_items": null,
            "bottom": null,
            "_model_module": "@jupyter-widgets/base",
            "top": null,
            "grid_column": null,
            "overflow_y": null,
            "overflow_x": null,
            "grid_auto_flow": null,
            "grid_area": null,
            "grid_template_columns": null,
            "flex": null,
            "_model_name": "LayoutModel",
            "justify_items": null,
            "grid_row": null,
            "max_height": null,
            "align_content": null,
            "visibility": null,
            "align_self": null,
            "height": null,
            "min_height": null,
            "padding": null,
            "grid_auto_rows": null,
            "grid_gap": null,
            "max_width": null,
            "order": null,
            "_view_module_version": "1.2.0",
            "grid_template_areas": null,
            "object_position": null,
            "object_fit": null,
            "grid_auto_columns": null,
            "margin": null,
            "display": null,
            "left": null
          }
        },
        "a0fa05570d764f029c87884aca7c7685": {
          "model_module": "@jupyter-widgets/controls",
          "model_name": "DescriptionStyleModel",
          "state": {
            "_view_name": "StyleView",
            "_model_name": "DescriptionStyleModel",
            "description_width": "",
            "_view_module": "@jupyter-widgets/base",
            "_model_module_version": "1.5.0",
            "_view_count": null,
            "_view_module_version": "1.2.0",
            "_model_module": "@jupyter-widgets/controls"
          }
        },
        "e5d8c21c546e476b9eae049820bdf6fd": {
          "model_module": "@jupyter-widgets/base",
          "model_name": "LayoutModel",
          "state": {
            "_view_name": "LayoutView",
            "grid_template_rows": null,
            "right": null,
            "justify_content": null,
            "_view_module": "@jupyter-widgets/base",
            "overflow": null,
            "_model_module_version": "1.2.0",
            "_view_count": null,
            "flex_flow": null,
            "width": null,
            "min_width": null,
            "border": null,
            "align_items": null,
            "bottom": null,
            "_model_module": "@jupyter-widgets/base",
            "top": null,
            "grid_column": null,
            "overflow_y": null,
            "overflow_x": null,
            "grid_auto_flow": null,
            "grid_area": null,
            "grid_template_columns": null,
            "flex": null,
            "_model_name": "LayoutModel",
            "justify_items": null,
            "grid_row": null,
            "max_height": null,
            "align_content": null,
            "visibility": null,
            "align_self": null,
            "height": null,
            "min_height": null,
            "padding": null,
            "grid_auto_rows": null,
            "grid_gap": null,
            "max_width": null,
            "order": null,
            "_view_module_version": "1.2.0",
            "grid_template_areas": null,
            "object_position": null,
            "object_fit": null,
            "grid_auto_columns": null,
            "margin": null,
            "display": null,
            "left": null
          }
        },
        "45b858d0761e4e9798f34e3974d75154": {
          "model_module": "@jupyter-widgets/controls",
          "model_name": "HBoxModel",
          "state": {
            "_view_name": "HBoxView",
            "_dom_classes": [],
            "_model_name": "HBoxModel",
            "_view_module": "@jupyter-widgets/controls",
            "_model_module_version": "1.5.0",
            "_view_count": null,
            "_view_module_version": "1.5.0",
            "box_style": "",
            "layout": "IPY_MODEL_db128c3de6c245118fdfa913e3164889",
            "_model_module": "@jupyter-widgets/controls",
            "children": [
              "IPY_MODEL_36899f4fc2b54015a2c8a88907da7f70",
              "IPY_MODEL_d300325a4f0540d79f2d43fe23b4c209"
            ]
          }
        },
        "db128c3de6c245118fdfa913e3164889": {
          "model_module": "@jupyter-widgets/base",
          "model_name": "LayoutModel",
          "state": {
            "_view_name": "LayoutView",
            "grid_template_rows": null,
            "right": null,
            "justify_content": null,
            "_view_module": "@jupyter-widgets/base",
            "overflow": null,
            "_model_module_version": "1.2.0",
            "_view_count": null,
            "flex_flow": null,
            "width": null,
            "min_width": null,
            "border": null,
            "align_items": null,
            "bottom": null,
            "_model_module": "@jupyter-widgets/base",
            "top": null,
            "grid_column": null,
            "overflow_y": null,
            "overflow_x": null,
            "grid_auto_flow": null,
            "grid_area": null,
            "grid_template_columns": null,
            "flex": null,
            "_model_name": "LayoutModel",
            "justify_items": null,
            "grid_row": null,
            "max_height": null,
            "align_content": null,
            "visibility": null,
            "align_self": null,
            "height": null,
            "min_height": null,
            "padding": null,
            "grid_auto_rows": null,
            "grid_gap": null,
            "max_width": null,
            "order": null,
            "_view_module_version": "1.2.0",
            "grid_template_areas": null,
            "object_position": null,
            "object_fit": null,
            "grid_auto_columns": null,
            "margin": null,
            "display": null,
            "left": null
          }
        },
        "36899f4fc2b54015a2c8a88907da7f70": {
          "model_module": "@jupyter-widgets/controls",
          "model_name": "FloatProgressModel",
          "state": {
            "_view_name": "ProgressView",
            "style": "IPY_MODEL_ca5cf92482ba484fb5ec73c5590f25f9",
            "_dom_classes": [],
            "description": "100%",
            "_model_name": "FloatProgressModel",
            "bar_style": "success",
            "max": 173,
            "_view_module": "@jupyter-widgets/controls",
            "_model_module_version": "1.5.0",
            "value": 173,
            "_view_count": null,
            "_view_module_version": "1.5.0",
            "orientation": "horizontal",
            "min": 0,
            "description_tooltip": null,
            "_model_module": "@jupyter-widgets/controls",
            "layout": "IPY_MODEL_bf3d0a8992844bb9bb5615b7fe805f51"
          }
        },
        "d300325a4f0540d79f2d43fe23b4c209": {
          "model_module": "@jupyter-widgets/controls",
          "model_name": "HTMLModel",
          "state": {
            "_view_name": "HTMLView",
            "style": "IPY_MODEL_150639cc4b804c38b3bd241d7a55b2f2",
            "_dom_classes": [],
            "description": "",
            "_model_name": "HTMLModel",
            "placeholder": "​",
            "_view_module": "@jupyter-widgets/controls",
            "_model_module_version": "1.5.0",
            "value": " 173/173 [01:52&lt;00:00,  1.54it/s]",
            "_view_count": null,
            "_view_module_version": "1.5.0",
            "description_tooltip": null,
            "_model_module": "@jupyter-widgets/controls",
            "layout": "IPY_MODEL_425a23bba0ac48f2a65d2d42dd900e77"
          }
        },
        "ca5cf92482ba484fb5ec73c5590f25f9": {
          "model_module": "@jupyter-widgets/controls",
          "model_name": "ProgressStyleModel",
          "state": {
            "_view_name": "StyleView",
            "_model_name": "ProgressStyleModel",
            "description_width": "initial",
            "_view_module": "@jupyter-widgets/base",
            "_model_module_version": "1.5.0",
            "_view_count": null,
            "_view_module_version": "1.2.0",
            "bar_color": null,
            "_model_module": "@jupyter-widgets/controls"
          }
        },
        "bf3d0a8992844bb9bb5615b7fe805f51": {
          "model_module": "@jupyter-widgets/base",
          "model_name": "LayoutModel",
          "state": {
            "_view_name": "LayoutView",
            "grid_template_rows": null,
            "right": null,
            "justify_content": null,
            "_view_module": "@jupyter-widgets/base",
            "overflow": null,
            "_model_module_version": "1.2.0",
            "_view_count": null,
            "flex_flow": null,
            "width": null,
            "min_width": null,
            "border": null,
            "align_items": null,
            "bottom": null,
            "_model_module": "@jupyter-widgets/base",
            "top": null,
            "grid_column": null,
            "overflow_y": null,
            "overflow_x": null,
            "grid_auto_flow": null,
            "grid_area": null,
            "grid_template_columns": null,
            "flex": null,
            "_model_name": "LayoutModel",
            "justify_items": null,
            "grid_row": null,
            "max_height": null,
            "align_content": null,
            "visibility": null,
            "align_self": null,
            "height": null,
            "min_height": null,
            "padding": null,
            "grid_auto_rows": null,
            "grid_gap": null,
            "max_width": null,
            "order": null,
            "_view_module_version": "1.2.0",
            "grid_template_areas": null,
            "object_position": null,
            "object_fit": null,
            "grid_auto_columns": null,
            "margin": null,
            "display": null,
            "left": null
          }
        },
        "150639cc4b804c38b3bd241d7a55b2f2": {
          "model_module": "@jupyter-widgets/controls",
          "model_name": "DescriptionStyleModel",
          "state": {
            "_view_name": "StyleView",
            "_model_name": "DescriptionStyleModel",
            "description_width": "",
            "_view_module": "@jupyter-widgets/base",
            "_model_module_version": "1.5.0",
            "_view_count": null,
            "_view_module_version": "1.2.0",
            "_model_module": "@jupyter-widgets/controls"
          }
        },
        "425a23bba0ac48f2a65d2d42dd900e77": {
          "model_module": "@jupyter-widgets/base",
          "model_name": "LayoutModel",
          "state": {
            "_view_name": "LayoutView",
            "grid_template_rows": null,
            "right": null,
            "justify_content": null,
            "_view_module": "@jupyter-widgets/base",
            "overflow": null,
            "_model_module_version": "1.2.0",
            "_view_count": null,
            "flex_flow": null,
            "width": null,
            "min_width": null,
            "border": null,
            "align_items": null,
            "bottom": null,
            "_model_module": "@jupyter-widgets/base",
            "top": null,
            "grid_column": null,
            "overflow_y": null,
            "overflow_x": null,
            "grid_auto_flow": null,
            "grid_area": null,
            "grid_template_columns": null,
            "flex": null,
            "_model_name": "LayoutModel",
            "justify_items": null,
            "grid_row": null,
            "max_height": null,
            "align_content": null,
            "visibility": null,
            "align_self": null,
            "height": null,
            "min_height": null,
            "padding": null,
            "grid_auto_rows": null,
            "grid_gap": null,
            "max_width": null,
            "order": null,
            "_view_module_version": "1.2.0",
            "grid_template_areas": null,
            "object_position": null,
            "object_fit": null,
            "grid_auto_columns": null,
            "margin": null,
            "display": null,
            "left": null
          }
        }
      }
    }
  },
  "cells": [
    {
      "cell_type": "markdown",
      "metadata": {
        "id": "Pa83ULLUI7Sm",
        "colab_type": "text"
      },
      "source": [
        "## 1. Подготовка данных"
      ]
    },
    {
      "cell_type": "code",
      "metadata": {
        "id": "61tsu6c-3rOB",
        "colab_type": "code",
        "colab": {
          "base_uri": "https://localhost:8080/",
          "height": 507
        },
        "outputId": "1e682bdd-718f-4124-e461-181038820f1a"
      },
      "source": [
        "!wget https://www.dropbox.com/s/s4qj0fpsn378m2i/chgk.zip\n",
        "!unzip chgk.zip"
      ],
      "execution_count": null,
      "outputs": [
        {
          "output_type": "stream",
          "text": [
            "--2020-06-15 05:18:30--  https://www.dropbox.com/s/s4qj0fpsn378m2i/chgk.zip\n",
            "Resolving www.dropbox.com (www.dropbox.com)... 162.125.82.1, 2620:100:6032:1::a27d:5201\n",
            "Connecting to www.dropbox.com (www.dropbox.com)|162.125.82.1|:443... connected.\n",
            "HTTP request sent, awaiting response... 301 Moved Permanently\n",
            "Location: /s/raw/s4qj0fpsn378m2i/chgk.zip [following]\n",
            "--2020-06-15 05:18:30--  https://www.dropbox.com/s/raw/s4qj0fpsn378m2i/chgk.zip\n",
            "Reusing existing connection to www.dropbox.com:443.\n",
            "HTTP request sent, awaiting response... 302 Found\n",
            "Location: https://uc21be2206ad7b6ec94be7c9ea35.dl.dropboxusercontent.com/cd/0/inline/A5pUQsXt8oBziMRTJKGgpwFp6VPUTILxnOuzJbaf1qBGKU5SxhfxYKTvyJHTS7YLKOJbSdkCsEomA9zrSB06Mo8WErO3yoPlWAHRZTNudU7IGuZ_-f3lCXkAZBbO9HsLWso/file# [following]\n",
            "--2020-06-15 05:18:30--  https://uc21be2206ad7b6ec94be7c9ea35.dl.dropboxusercontent.com/cd/0/inline/A5pUQsXt8oBziMRTJKGgpwFp6VPUTILxnOuzJbaf1qBGKU5SxhfxYKTvyJHTS7YLKOJbSdkCsEomA9zrSB06Mo8WErO3yoPlWAHRZTNudU7IGuZ_-f3lCXkAZBbO9HsLWso/file\n",
            "Resolving uc21be2206ad7b6ec94be7c9ea35.dl.dropboxusercontent.com (uc21be2206ad7b6ec94be7c9ea35.dl.dropboxusercontent.com)... 162.125.80.15, 2620:100:6030:15::a27d:500f\n",
            "Connecting to uc21be2206ad7b6ec94be7c9ea35.dl.dropboxusercontent.com (uc21be2206ad7b6ec94be7c9ea35.dl.dropboxusercontent.com)|162.125.80.15|:443... connected.\n",
            "HTTP request sent, awaiting response... 302 Found\n",
            "Location: /cd/0/inline2/A5onlUsXbwbY43qiFXxqQQrF8fQHvkZplLHzzlLO4raU2FNyy08TA8Q2wI-_iWUmEsDGYDPc5ciLTESMHHQHGGzZOlhqcqKEsRnTb0iShtqas3i7YbFrVfuuzqU_TajkHQU8anGAtLWHG2maIo23ry1_8hc4suAVb_SjPqGupvvO5IWwK2PLcx93emw7BZgi9erWBG03Dczwvtw4DQ6s2DQCbhUwibXR4ksruFdTWHzswFkcXnQ5KuXcm2_Xwof_hSonMcs4jsOf-6al0UJmoepUTUdZwU8Gw7q3HN7P0hPNhB3t-Ay3qleFj8afGtqOPHHiMqc_YdyPRn9erLOvgWS8pbvtSCutd-xNg7GHga7xXg/file [following]\n",
            "--2020-06-15 05:18:31--  https://uc21be2206ad7b6ec94be7c9ea35.dl.dropboxusercontent.com/cd/0/inline2/A5onlUsXbwbY43qiFXxqQQrF8fQHvkZplLHzzlLO4raU2FNyy08TA8Q2wI-_iWUmEsDGYDPc5ciLTESMHHQHGGzZOlhqcqKEsRnTb0iShtqas3i7YbFrVfuuzqU_TajkHQU8anGAtLWHG2maIo23ry1_8hc4suAVb_SjPqGupvvO5IWwK2PLcx93emw7BZgi9erWBG03Dczwvtw4DQ6s2DQCbhUwibXR4ksruFdTWHzswFkcXnQ5KuXcm2_Xwof_hSonMcs4jsOf-6al0UJmoepUTUdZwU8Gw7q3HN7P0hPNhB3t-Ay3qleFj8afGtqOPHHiMqc_YdyPRn9erLOvgWS8pbvtSCutd-xNg7GHga7xXg/file\n",
            "Reusing existing connection to uc21be2206ad7b6ec94be7c9ea35.dl.dropboxusercontent.com:443.\n",
            "HTTP request sent, awaiting response... 200 OK\n",
            "Length: 176605878 (168M) [application/zip]\n",
            "Saving to: ‘chgk.zip.1’\n",
            "\n",
            "chgk.zip.1          100%[===================>] 168.42M  17.7MB/s    in 9.6s    \n",
            "\n",
            "2020-06-15 05:18:41 (17.5 MB/s) - ‘chgk.zip.1’ saved [176605878/176605878]\n",
            "\n",
            "Archive:  chgk.zip\n",
            "replace players.pkl? [y]es, [n]o, [A]ll, [N]one, [r]ename: n\n",
            "replace results.pkl? [y]es, [n]o, [A]ll, [N]one, [r]ename: n\n",
            "replace tournaments.pkl? [y]es, [n]o, [A]ll, [N]one, [r]ename: n\n"
          ],
          "name": "stdout"
        }
      ]
    },
    {
      "cell_type": "code",
      "metadata": {
        "id": "KePbQ50D8F0m",
        "colab_type": "code",
        "colab": {}
      },
      "source": [
        "import os\n",
        "import pickle\n",
        "\n",
        "import numpy as np\n",
        "import pandas as pd\n",
        "from scipy.special import logit, expit\n",
        "from sklearn.linear_model import LogisticRegression, Ridge\n",
        "\n",
        "from collections import defaultdict, Counter\n",
        "from scipy.sparse import coo_matrix"
      ],
      "execution_count": null,
      "outputs": []
    },
    {
      "cell_type": "code",
      "metadata": {
        "id": "2aGYHG7o8j5t",
        "colab_type": "code",
        "colab": {}
      },
      "source": [
        "with open(\"results.pkl\", \"rb\") as f:\n",
        "  results = pickle.load(f)\n",
        "with open(\"tournaments.pkl\", \"rb\") as f:\n",
        "  tournaments = pickle.load(f)"
      ],
      "execution_count": null,
      "outputs": []
    },
    {
      "cell_type": "code",
      "metadata": {
        "id": "bKLJCvz-9BBw",
        "colab_type": "code",
        "colab": {
          "base_uri": "https://localhost:8080/",
          "height": 34
        },
        "outputId": "184c5869-24a4-4d80-9a32-2565f9bf5a03"
      },
      "source": [
        "len(results), len(tournaments)"
      ],
      "execution_count": null,
      "outputs": [
        {
          "output_type": "execute_result",
          "data": {
            "text/plain": [
              "(5528, 5528)"
            ]
          },
          "metadata": {
            "tags": []
          },
          "execution_count": 5
        }
      ]
    },
    {
      "cell_type": "code",
      "metadata": {
        "id": "lBPvBhI5AqAg",
        "colab_type": "code",
        "colab": {}
      },
      "source": [
        "# Выбираем игры от 2019 года с информацией по ответам и игрокам\n",
        "\n",
        "results_upd = defaultdict(list)\n",
        "tournaments_upd = {}\n",
        "\n",
        "for id, value in results.items():\n",
        "  y = int(tournaments[id][\"dateStart\"][0:4])\n",
        "  if y in [2019, 2020]:\n",
        "    for team in value:\n",
        "      mask = team.get(\"mask\", None)\n",
        "      team_members = team.get(\"teamMembers\", [])\n",
        "      if mask and team_members:\n",
        "        results_upd[id].append(team)\n",
        "  else:\n",
        "    continue\n",
        "\n",
        "tournaments_upd = {k: tournaments[k] for k, v in results_upd.items()}\n",
        "results, tournaments = dict(results_upd), tournaments_upd"
      ],
      "execution_count": null,
      "outputs": []
    },
    {
      "cell_type": "code",
      "metadata": {
        "id": "fgmn5SOf9HHy",
        "colab_type": "code",
        "colab": {
          "base_uri": "https://localhost:8080/",
          "height": 34
        },
        "outputId": "530549e5-37f6-4043-cc2d-9223c9df9c9f"
      },
      "source": [
        "len(results), len(tournaments)"
      ],
      "execution_count": null,
      "outputs": [
        {
          "output_type": "execute_result",
          "data": {
            "text/plain": [
              "(848, 848)"
            ]
          },
          "metadata": {
            "tags": []
          },
          "execution_count": 7
        }
      ]
    },
    {
      "cell_type": "code",
      "metadata": {
        "id": "szApYCv6-RXl",
        "colab_type": "code",
        "colab": {}
      },
      "source": [
        "# Делаем разбивку по годам на тест и трейн\n",
        "\n",
        "train_data, test_data = {}, {}\n",
        "for id, tournament in results.items():\n",
        "  y = int(tournaments[id][\"dateStart\"][0:4])\n",
        "  \n",
        "  if y == 2019:\n",
        "    train_data[id] = {\"tournament_name\": tournaments[id][\"name\"]}\n",
        "    team_results = []\n",
        "    for team_result in tournament:\n",
        "      team_info = {\"team_id\": team_result[\"team\"][\"id\"], \"mask\": team_result[\"mask\"], \"position\": team_result[\"position\"],\n",
        "        \"teamMembers\": [team_member[\"player\"][\"id\"] for team_member in team_result['teamMembers']]}\n",
        "      team_results.append(team_info)\n",
        "    train_data[id][\"tournament_result\"] = team_results\n",
        "\n",
        "  elif y == 2020:\n",
        "    test_data[id] = {\"tournament_name\": tournaments[id][\"name\"]}\n",
        "    team_results = []\n",
        "    for team_result in tournament:\n",
        "      team_info = {\"team_id\": team_result[\"team\"][\"id\"], \"mask\": team_result[\"mask\"], \"position\": team_result[\"position\"],\n",
        "        \"teamMembers\": [team_member[\"player\"][\"id\"] for team_member in team_result['teamMembers']]}\n",
        "      team_results.append(team_info)\n",
        "    test_data[id][\"tournament_result\"] = team_results"
      ],
      "execution_count": null,
      "outputs": []
    },
    {
      "cell_type": "code",
      "metadata": {
        "id": "Ix_Pt2wT9b5m",
        "colab_type": "code",
        "colab": {
          "base_uri": "https://localhost:8080/",
          "height": 34
        },
        "outputId": "dc38948b-b77a-4981-f317-7d5545c88caa"
      },
      "source": [
        "len(train_data), len(test_data)"
      ],
      "execution_count": null,
      "outputs": [
        {
          "output_type": "execute_result",
          "data": {
            "text/plain": [
              "(675, 173)"
            ]
          },
          "metadata": {
            "tags": []
          },
          "execution_count": 9
        }
      ]
    },
    {
      "cell_type": "code",
      "metadata": {
        "id": "URGgOyp0D2fu",
        "colab_type": "code",
        "colab": {}
      },
      "source": [
        "# Заменяем id игроков, отсутствующих в тесте,\n",
        "# и игроков, переживших мало игр\n",
        "\n",
        "games_by_player = Counter()\n",
        "for tournament in train_data.values():\n",
        "  for team in tournament[\"tournament_result\"]:\n",
        "    games_by_player += Counter({member: 1 for member in team[\"teamMembers\"]})\n",
        "\n",
        "low_exp_players = set()\n",
        "for member, games in games_by_player.most_common():\n",
        "  if games <= 5:\n",
        "    low_exp_players.add(member)\n",
        "\n",
        "y2019_players = set()\n",
        "for tournament in train_data.values():\n",
        "  for team in tournament[\"tournament_result\"]:\n",
        "    team[\"teamMembers\"] = set([-1 if member in low_exp_players else member for member in team[\"teamMembers\"]])\n",
        "    y2019_players.update(team[\"teamMembers\"])\n",
        "        \n",
        "for tournament in test_data.values():\n",
        "  for team in tournament[\"tournament_result\"]:\n",
        "    team[\"teamMembers\"] = set([-1 if member not in y2019_players else member for member in team[\"teamMembers\"]])"
      ],
      "execution_count": null,
      "outputs": []
    },
    {
      "cell_type": "code",
      "metadata": {
        "id": "VAT55mmK9jvG",
        "colab_type": "code",
        "colab": {
          "base_uri": "https://localhost:8080/",
          "height": 34
        },
        "outputId": "2d1dcc77-c428-4706-8c27-78a8e3c9149c"
      },
      "source": [
        "len(train_data), len(test_data)"
      ],
      "execution_count": null,
      "outputs": [
        {
          "output_type": "execute_result",
          "data": {
            "text/plain": [
              "(675, 173)"
            ]
          },
          "metadata": {
            "tags": []
          },
          "execution_count": 11
        }
      ]
    },
    {
      "cell_type": "code",
      "metadata": {
        "id": "0uUnoYcCGQ8X",
        "colab_type": "code",
        "colab": {}
      },
      "source": [
        "# Подготавливаем признаки и классы\n",
        "\n",
        "members_and_questions = set()\n",
        "for id, tournament in train_data.items():\n",
        "  for team in tournament[\"tournament_result\"]:\n",
        "    members_and_questions.update(team[\"teamMembers\"])\n",
        "    questions_ids = (f\"{id}_{question_num}\" for question_num in range(len(team[\"mask\"])))\n",
        "    members_and_questions.update(questions_ids)\n",
        "members_and_questions = {v: i for i, v in enumerate(members_and_questions)}"
      ],
      "execution_count": null,
      "outputs": []
    },
    {
      "cell_type": "code",
      "metadata": {
        "id": "FMAdtLZXKDN9",
        "colab_type": "code",
        "colab": {}
      },
      "source": [
        "def prepare_data(data, train):\n",
        "  global members_and_questions\n",
        "  rows = []\n",
        "  cols = []\n",
        "  y = []\n",
        "  current_row = 0\n",
        "  for id, tournament in data.items():\n",
        "    for team in tournament[\"tournament_result\"]:\n",
        "      for quest_numb, mask in enumerate(team[\"mask\"]):\n",
        "        try:\n",
        "          y.extend([int(mask)] * len(team[\"teamMembers\"]))\n",
        "        except ValueError:\n",
        "          continue\n",
        "        for member in team[\"teamMembers\"]:\n",
        "          rows.append(current_row)\n",
        "          cols.append(members_and_questions[member])\n",
        "          if train:    \n",
        "            rows.append(current_row)\n",
        "            cols.append(members_and_questions[f\"{id}_{quest_numb}\"])\n",
        "          current_row += 1\n",
        "              \n",
        "  rows = np.asarray(rows, dtype=np.int32)\n",
        "  cols = np.asarray(cols, dtype=np.int32)\n",
        "  data = np.ones(len(rows))\n",
        "  y = np.asarray(y, dtype=np.int8)\n",
        "      \n",
        "  X = coo_matrix((data, (rows, cols)), shape=(len(y), len(members_and_questions)))\n",
        "  return X, y\n",
        "\n",
        "X_train, y_train = prepare_data(train_data, True)\n",
        "X_test, y_test = prepare_data(test_data, False)"
      ],
      "execution_count": null,
      "outputs": []
    },
    {
      "cell_type": "code",
      "metadata": {
        "id": "AsFKGRIF9nT-",
        "colab_type": "code",
        "colab": {
          "base_uri": "https://localhost:8080/",
          "height": 34
        },
        "outputId": "80ebfe70-c280-42e2-8bcb-00a43c3a2db1"
      },
      "source": [
        "X_train.shape, len(y_train), X_test.shape, len(y_test)"
      ],
      "execution_count": null,
      "outputs": [
        {
          "output_type": "execute_result",
          "data": {
            "text/plain": [
              "((18000070, 49836), 18000070, (3795338, 49836), 3795338)"
            ]
          },
          "metadata": {
            "tags": []
          },
          "execution_count": 14
        }
      ]
    },
    {
      "cell_type": "markdown",
      "metadata": {
        "id": "1ECpt2TjJDbl",
        "colab_type": "text"
      },
      "source": [
        "## 2. Построение baseline-модели"
      ]
    },
    {
      "cell_type": "code",
      "metadata": {
        "id": "GB79Ib6U-W9R",
        "colab_type": "code",
        "colab": {
          "base_uri": "https://localhost:8080/",
          "height": 235
        },
        "outputId": "0a8a8c0b-8b0f-44c9-e845-6942d2d552b0"
      },
      "source": [
        "# С помощью модели логистической регресии будем предсказывать вероятность правильного ответа\n",
        "# для отдельного игрока на конкретный вопрос, при этом на основе данных 2019 года считаем,\n",
        "# что если команда ответила на вопрос верно, то и все игроки ответили верно на тот же вопрос\n",
        "\n",
        "model = LogisticRegression()\n",
        "model.fit(X_train, y_train)"
      ],
      "execution_count": null,
      "outputs": [
        {
          "output_type": "stream",
          "text": [
            "/usr/local/lib/python3.6/dist-packages/sklearn/linear_model/_logistic.py:940: ConvergenceWarning: lbfgs failed to converge (status=1):\n",
            "STOP: TOTAL NO. of ITERATIONS REACHED LIMIT.\n",
            "\n",
            "Increase the number of iterations (max_iter) or scale the data as shown in:\n",
            "    https://scikit-learn.org/stable/modules/preprocessing.html\n",
            "Please also refer to the documentation for alternative solver options:\n",
            "    https://scikit-learn.org/stable/modules/linear_model.html#logistic-regression\n",
            "  extra_warning_msg=_LOGISTIC_SOLVER_CONVERGENCE_MSG)\n"
          ],
          "name": "stderr"
        },
        {
          "output_type": "execute_result",
          "data": {
            "text/plain": [
              "LogisticRegression(C=1.0, class_weight=None, dual=False, fit_intercept=True,\n",
              "                   intercept_scaling=1, l1_ratio=None, max_iter=100,\n",
              "                   multi_class='auto', n_jobs=None, penalty='l2',\n",
              "                   random_state=None, solver='lbfgs', tol=0.0001, verbose=0,\n",
              "                   warm_start=False)"
            ]
          },
          "metadata": {
            "tags": []
          },
          "execution_count": 15
        }
      ]
    },
    {
      "cell_type": "code",
      "metadata": {
        "id": "aQvPpvPaR5Eb",
        "colab_type": "code",
        "colab": {
          "base_uri": "https://localhost:8080/",
          "height": 50
        },
        "outputId": "0248a6e0-7365-4250-e164-7f6f7228d409"
      },
      "source": [
        "from sklearn.metrics import log_loss\n",
        "\n",
        "predict_train = model.predict_proba(X_train)[:, 1]\n",
        "predict_test = model.predict_proba(X_test)[:, 1]\n",
        "\n",
        "print (log_loss(y_train, predict_train))\n",
        "print (log_loss(y_test, predict_test))"
      ],
      "execution_count": null,
      "outputs": [
        {
          "output_type": "stream",
          "text": [
            "0.5058418323613872\n",
            "0.696304075274913\n"
          ],
          "name": "stdout"
        }
      ]
    },
    {
      "cell_type": "code",
      "metadata": {
        "id": "49mC--Ri94gH",
        "colab_type": "code",
        "colab": {
          "base_uri": "https://localhost:8080/",
          "height": 34
        },
        "outputId": "fed3f722-6e76-40bb-f371-96a6b9f818b9"
      },
      "source": [
        "len(predict_train), len(predict_test)"
      ],
      "execution_count": null,
      "outputs": [
        {
          "output_type": "execute_result",
          "data": {
            "text/plain": [
              "(18000070, 3795338)"
            ]
          },
          "metadata": {
            "tags": []
          },
          "execution_count": 17
        }
      ]
    },
    {
      "cell_type": "markdown",
      "metadata": {
        "id": "rkk5MGfIVBiY",
        "colab_type": "text"
      },
      "source": [
        "## 3. Качество рейтинг-системы"
      ]
    },
    {
      "cell_type": "code",
      "metadata": {
        "id": "MPv988_hTb3_",
        "colab_type": "code",
        "colab": {}
      },
      "source": [
        "# Для построения рейтинг-системы необходимо отсортировать команды в зависимости от\n",
        "# того, как много игроков в них правильно отвечают на вопросы.\n",
        "# Будем считать, что команда дает верный ответ при еврном ответе хотя бы одного игрока\n",
        "\n",
        "# Готовим датафрейм с местами команд для тестовых данных\n",
        "\n",
        "tournament_ids = []\n",
        "team_ids = []\n",
        "positions = []\n",
        "for id, tournament in test_data.items():\n",
        "  for team in tournament[\"tournament_result\"]:\n",
        "    tournament_ids.append(id)\n",
        "    team_ids.append(team[\"team_id\"])\n",
        "    positions.append(team[\"position\"])\n",
        "\n",
        "true_positions = pd.DataFrame.from_dict({\n",
        "  'tournament_id': tournament_ids,\n",
        "  'team_id': team_ids,\n",
        "  'position_true': positions,\n",
        "})"
      ],
      "execution_count": null,
      "outputs": []
    },
    {
      "cell_type": "code",
      "metadata": {
        "id": "jQ9gOiwNXR5C",
        "colab_type": "code",
        "colab": {}
      },
      "source": [
        "# Готовим массивы с id игр и id команд с тем же размером, что и у предсказаний выше\n",
        "\n",
        "is_answered = []\n",
        "tournament_ids_test = []\n",
        "team_ids_test = []\n",
        "for id, tournament in test_data.items():\n",
        "  for team in tournament[\"tournament_result\"]:\n",
        "    team_id = team[\"team_id\"]\n",
        "    for answer in team[\"mask\"]:\n",
        "      try:\n",
        "        is_answered.extend([int(answer)] * len(team[\"teamMembers\"]))\n",
        "        tournament_ids_test.extend([id] * len(team[\"teamMembers\"]))\n",
        "        team_ids_test.extend([team_id] * len(team[\"teamMembers\"]))\n",
        "      except ValueError:\n",
        "        continue\n",
        "\n",
        "tournament_ids_test = np.asarray(tournament_ids_test, dtype=np.int32)\n",
        "team_ids_test = np.asarray(team_ids_test, dtype=np.int32)"
      ],
      "execution_count": null,
      "outputs": []
    },
    {
      "cell_type": "code",
      "metadata": {
        "id": "JJttUquPXTJZ",
        "colab_type": "code",
        "colab": {}
      },
      "source": [
        "# Готовим датафрейм с предсказанными местами команд для тестовых данных\n",
        "\n",
        "predicted_positions = pd.DataFrame.from_dict({\n",
        "  'tournament_id': tournament_ids_test,\n",
        "  'team_id': team_ids_test,\n",
        "  '1-predict': 1 - predict_test,\n",
        "})\n",
        "    \n",
        "predicted_positions = predicted_positions.groupby([\"tournament_id\", \"team_id\"]).agg(\"prod\").reset_index()\n",
        "predicted_positions[\"position_pred\"] = predicted_positions.groupby(\"tournament_id\")[\"1-predict\"].rank(\"dense\")"
      ],
      "execution_count": null,
      "outputs": []
    },
    {
      "cell_type": "code",
      "metadata": {
        "id": "ahQwA_o_QEle",
        "colab_type": "code",
        "colab": {
          "base_uri": "https://localhost:8080/",
          "height": 34
        },
        "outputId": "80c67293-a211-4826-e16e-93cb8d922aca"
      },
      "source": [
        "# Считаем корреляции\n",
        "\n",
        "from scipy.stats import kendalltau, spearmanr\n",
        "\n",
        "merge = pd.merge(predicted_positions, true_positions, on=[\"tournament_id\", \"team_id\"])\n",
        "\n",
        "kendall = []\n",
        "spearman = []\n",
        "tournam_ids = merge['tournament_id'].unique()\n",
        "\n",
        "for tournam_id in tournam_ids:\n",
        "  kendall += [kendalltau(merge[merge['tournament_id']==tournam_id][\"position_pred\"], merge[merge['tournament_id']==tournam_id][\"position_true\"]).correlation]\n",
        "  spearman += [spearmanr(merge[merge['tournament_id']==tournam_id][\"position_pred\"], merge[merge['tournament_id']==tournam_id][\"position_true\"]).correlation] \n",
        "\n",
        "kendall = np.asarray(kendall)\n",
        "spearman = np.asarray(spearman)\n",
        "kendall[np.isnan(kendall)] = 0.0\n",
        "spearman[np.isnan(spearman)] = 0.0\n",
        "\n",
        "kendall_corr = np.mean(kendall)\n",
        "spearman_corr = np.mean(spearman)\n",
        "print ('Ранговые корреляции Спирмена и Кендалла равны', spearman_corr, 'и', kendall_corr)"
      ],
      "execution_count": null,
      "outputs": [
        {
          "output_type": "stream",
          "text": [
            "Ранговые корреляции Спирмена и Кендалла равны 0.7509334072505259 и 0.598887798571282\n"
          ],
          "name": "stdout"
        }
      ]
    },
    {
      "cell_type": "markdown",
      "metadata": {
        "id": "tvI28ikLXVTA",
        "colab_type": "text"
      },
      "source": [
        "## 4. EM-схема для обучения модели"
      ]
    },
    {
      "cell_type": "code",
      "metadata": {
        "id": "whKRrK4HAZo-",
        "colab_type": "code",
        "colab": {}
      },
      "source": [
        "# На Е шаге будем оценивать мат ожидание скрытой переменной z для ответов игроков.\n",
        "# Z будет определять событие ответа игрока при условии ответа команды.\n",
        "\n",
        "# На М шаге оцениваем ответы игроков при имеющихся сложностях вопросов, опираясь на z\n",
        "\n",
        "# Готовим массивы с id игр, id команд, id игроков с тем же размером, что и X_train\n",
        "# на каждого участника\n",
        "\n",
        "is_answered = []\n",
        "tournament_ids_train = []\n",
        "team_ids_train = []\n",
        "player_ids_train = []\n",
        "questions_train = []\n",
        "for id, tournament in train_data.items():\n",
        "  for team in tournament[\"tournament_result\"]:\n",
        "    team_id = team[\"team_id\"]\n",
        "    for question, answer in enumerate(team[\"mask\"]):\n",
        "      try:\n",
        "          is_answered.extend([int(answer)] * len(team[\"teamMembers\"]))\n",
        "          tournament_ids_train.extend([id] * len(team[\"teamMembers\"]))\n",
        "          team_ids_train.extend([team_id] * len(team[\"teamMembers\"]))\n",
        "          questions_train.extend([question] * len(team[\"teamMembers\"]))\n",
        "      except ValueError:\n",
        "          continue\n",
        "      for member in team[\"teamMembers\"]:\n",
        "          player_ids_train.append(member)\n",
        "\n",
        "tournament_ids_train = np.asarray(tournament_ids_train, dtype=np.int32)\n",
        "team_ids_train = np.asarray(team_ids_train, dtype=np.int32)\n",
        "questions_train = np.asarray(questions_train, dtype=np.int32)"
      ],
      "execution_count": null,
      "outputs": []
    },
    {
      "cell_type": "code",
      "metadata": {
        "id": "UzTJtbnajWn2",
        "colab_type": "code",
        "colab": {
          "base_uri": "https://localhost:8080/",
          "height": 353
        },
        "outputId": "5449e053-5fea-465d-9796-d528e4406658"
      },
      "source": [
        "import time\n",
        "\n",
        "for s in range(1, 11):\n",
        "\n",
        "  start = time.time()\n",
        "\n",
        "  # E-шаг\n",
        "\n",
        "  predicts_and_other_info = pd.DataFrame.from_dict({\n",
        "    'tournament_id': tournament_ids_train,\n",
        "    'team_id': team_ids_train,\n",
        "    'player_id': player_ids_train,\n",
        "    'questions': questions_train,\n",
        "    'predict': predict_train,\n",
        "  })\n",
        "  predicts_and_other_info[\"1-predict\"] = 1 - predicts_and_other_info[\"predict\"]\n",
        "\n",
        "  predicts_by_teams = predicts_and_other_info.drop(columns=[\"player_id\", \"predict\"]).groupby([\"tournament_id\", \"team_id\", \"questions\"]).agg(\"prod\").reset_index()\n",
        "  predicts_by_teams[\"team_predict\"] = 1 - predicts_by_teams[\"1-predict\"]\n",
        "\n",
        "  predicts_and_other_info = pd.merge(predicts_and_other_info.drop(columns=\"1-predict\"), predicts_by_teams.drop(columns=\"1-predict\"), on=[\"tournament_id\", \"team_id\", \"questions\"])\n",
        "  predicts_and_other_info[\"z\"] = predicts_and_other_info[\"predict\"] / predicts_and_other_info[\"team_predict\"]\n",
        "\n",
        "  z = predicts_and_other_info[\"z\"].values\n",
        "  z = np.where(y_train == 0, 0, z)\n",
        "  z = np.clip(z, 1e-6, 1 - 1e-6)\n",
        "  \n",
        "  # M-шаг\n",
        "\n",
        "  model = Ridge(alpha=5, solver=\"auto\", tol=0.0001)\n",
        "  model.fit(X_train, logit(z))\n",
        "  predict_train = expit(model.predict(X_train))\n",
        "  predict_test = expit(model.predict(X_test))\n",
        "  \n",
        "  # оценка качества\n",
        "  predicted_positions = pd.DataFrame.from_dict({\n",
        "    'tournament_id': tournament_ids_test,\n",
        "    'team_id': team_ids_test,\n",
        "    '1-predict': 1 - predict_test,\n",
        "    })\n",
        "      \n",
        "  predicted_positions = predicted_positions.groupby([\"tournament_id\", \"team_id\"]).agg(\"prod\").reset_index()\n",
        "  predicted_positions[\"position_pred\"] = predicted_positions.groupby(\"tournament_id\")[\"1-predict\"].rank(\"dense\")\n",
        "\n",
        "  merge = pd.merge(predicted_positions, true_positions, on=[\"tournament_id\", \"team_id\"])\n",
        "\n",
        "  kendall = []\n",
        "  spearman = []\n",
        "  tournam_ids = merge['tournament_id'].unique()\n",
        "\n",
        "  for tournam_id in tournam_ids:\n",
        "    kendall += [kendalltau(merge[merge['tournament_id']==tournam_id][\"position_pred\"], merge[merge['tournament_id']==tournam_id][\"position_true\"]).correlation]\n",
        "    spearman += [spearmanr(merge[merge['tournament_id']==tournam_id][\"position_pred\"], merge[merge['tournament_id']==tournam_id][\"position_true\"]).correlation] \n",
        "\n",
        "  kendall = np.asarray(kendall)\n",
        "  spearman = np.asarray(spearman)\n",
        "  kendall[np.isnan(kendall)] = 0.0\n",
        "  spearman[np.isnan(spearman)] = 0.0\n",
        "\n",
        "  kendall_corr = np.mean(kendall)\n",
        "  spearman_corr = np.mean(spearman)\n",
        "\n",
        "  print(f\"На {s} шаге корреляция Кендалла - {kendall_corr}, корреляция Спирмена: {spearman_corr}\\n  время работы - {time.time() - start}\")"
      ],
      "execution_count": null,
      "outputs": [
        {
          "output_type": "stream",
          "text": [
            "На 1 шаге корреляция Кендалла - 0.6160538667075308, корреляция Спирмена: 0.7683078057498857\n",
            "  время работы - 48.904988527297974\n",
            "На 2 шаге корреляция Кендалла - 0.6207475765802938, корреляция Спирмена: 0.7724053339737121\n",
            "  время работы - 47.77802872657776\n",
            "На 3 шаге корреляция Кендалла - 0.6228419180377236, корреляция Спирмена: 0.7743692626011769\n",
            "  время работы - 49.92509722709656\n",
            "На 4 шаге корреляция Кендалла - 0.6245305114212129, корреляция Спирмена: 0.7756077552858928\n",
            "  время работы - 50.63430905342102\n",
            "На 5 шаге корреляция Кендалла - 0.6247279585776323, корреляция Спирмена: 0.7753385660512798\n",
            "  время работы - 49.42472243309021\n",
            "На 6 шаге корреляция Кендалла - 0.6233069069729232, корреляция Спирмена: 0.7745741825497473\n",
            "  время работы - 48.65809512138367\n",
            "На 7 шаге корреляция Кендалла - 0.623302541565511, корреляция Спирмена: 0.7745480613230324\n",
            "  время работы - 48.47633123397827\n",
            "На 8 шаге корреляция Кендалла - 0.623283416845366, корреляция Спирмена: 0.7745305690550128\n",
            "  время работы - 48.149786949157715\n",
            "На 9 шаге корреляция Кендалла - 0.6234300975232395, корреляция Спирмена: 0.7746107222253287\n",
            "  время работы - 49.576053619384766\n",
            "На 10 шаге корреляция Кендалла - 0.6232734733829549, корреляция Спирмена: 0.7745236241363185\n",
            "  время работы - 51.67781972885132\n"
          ],
          "name": "stdout"
        }
      ]
    },
    {
      "cell_type": "markdown",
      "metadata": {
        "id": "lq550DyHMh1M",
        "colab_type": "text"
      },
      "source": [
        "## 5. Рейтинг турниров по сложности"
      ]
    },
    {
      "cell_type": "code",
      "metadata": {
        "id": "MTWyCOXDzAtw",
        "colab_type": "code",
        "colab": {}
      },
      "source": [
        "tournaments_weights = set()\n",
        "for id, tournament in train_data.items():\n",
        "  for team in tournament[\"tournament_result\"]:\n",
        "    questions_ids = (f\"{id}_{question_num}\" for question_num in range(len(team[\"mask\"])))\n",
        "    tournaments_weights.update(questions_ids)\n",
        "tournaments_weights = {i: int(v.split(\"_\")[0]) for i, v in enumerate(tournaments_weights) if isinstance(v, str)}"
      ],
      "execution_count": null,
      "outputs": []
    },
    {
      "cell_type": "code",
      "metadata": {
        "id": "l1s-IaHuKFd9",
        "colab_type": "code",
        "colab": {}
      },
      "source": [
        "# Отсортируем игры по сложности вопросов\n",
        "# Сложность вопросо будем находить через отношение суммы весов модели на количество вопросов\n",
        "# для каждого турнира\n",
        "\n",
        "import heapq\n",
        "from urllib.parse import quote\n",
        "\n",
        "tournaments_level = defaultdict(lambda: [0, 0, 0]) # сумма весов, число вопросов, сложность вопросов\n",
        "\n",
        "for weight_index, weight in enumerate(model.coef_):\n",
        "    try:\n",
        "        tournament_id = tournaments_weights[weight_index]\n",
        "    except KeyError:\n",
        "        continue\n",
        "    tournaments_level[tournament_id][0] += weight\n",
        "    tournaments_level[tournament_id][1] += 1\n",
        "\n",
        "for _, difficulty in tournaments_level.items():\n",
        "    difficulty[2] = difficulty[0] / difficulty[1]\n",
        "\n",
        "hard_tournaments = [\n",
        "    train_data[key]['tournament_name'] for key, value in tournaments_level.items()\n",
        "    if -value[2] in heapq.nlargest(10, [-diff[2] for diff in tournaments_level.values()])\n",
        "]\n",
        "easy_tournaments = [\n",
        "    train_data[key]['tournament_name'] for key, value in tournaments_level.items()\n",
        "    if value[2] in heapq.nlargest(10, [diff[2] for diff in tournaments_level.values()])\n",
        "]"
      ],
      "execution_count": null,
      "outputs": []
    },
    {
      "cell_type": "code",
      "metadata": {
        "id": "k4EfXP2ZShae",
        "colab_type": "code",
        "colab": {
          "base_uri": "https://localhost:8080/",
          "height": 222
        },
        "outputId": "055a2e49-db73-4926-ce39-afed19b80d69"
      },
      "source": [
        "print('Турниры со сложными вопросами:')\n",
        "for t in hard_tournaments:\n",
        "  print (t, 'https://db.chgk.info/search/questions/' + quote(t))"
      ],
      "execution_count": null,
      "outputs": [
        {
          "output_type": "stream",
          "text": [
            "Турниры со сложными вопросами:\n",
            "sin(CHRON) III https://db.chgk.info/search/questions/sin%28CHRON%29%20III\n",
            "Чемпионат Выборга https://db.chgk.info/search/questions/%D0%A7%D0%B5%D0%BC%D0%BF%D0%B8%D0%BE%D0%BD%D0%B0%D1%82%20%D0%92%D1%8B%D0%B1%D0%BE%D1%80%D0%B3%D0%B0\n",
            "Открытый Кубок Серпухова https://db.chgk.info/search/questions/%D0%9E%D1%82%D0%BA%D1%80%D1%8B%D1%82%D1%8B%D0%B9%20%D0%9A%D1%83%D0%B1%D0%BE%D0%BA%20%D0%A1%D0%B5%D1%80%D0%BF%D1%83%D1%85%D0%BE%D0%B2%D0%B0\n",
            "Славянка без раздаток. 1 этап https://db.chgk.info/search/questions/%D0%A1%D0%BB%D0%B0%D0%B2%D1%8F%D0%BD%D0%BA%D0%B0%20%D0%B1%D0%B5%D0%B7%20%D1%80%D0%B0%D0%B7%D0%B4%D0%B0%D1%82%D0%BE%D0%BA.%201%20%D1%8D%D1%82%D0%B0%D0%BF\n",
            "Гарри Поттер и 3 по 12 https://db.chgk.info/search/questions/%D0%93%D0%B0%D1%80%D1%80%D0%B8%20%D0%9F%D0%BE%D1%82%D1%82%D0%B5%D1%80%20%D0%B8%203%20%D0%BF%D0%BE%2012\n",
            "Чемпионат Минска. Лига А. Тур пятый https://db.chgk.info/search/questions/%D0%A7%D0%B5%D0%BC%D0%BF%D0%B8%D0%BE%D0%BD%D0%B0%D1%82%20%D0%9C%D0%B8%D0%BD%D1%81%D0%BA%D0%B0.%20%D0%9B%D0%B8%D0%B3%D0%B0%20%D0%90.%20%D0%A2%D1%83%D1%80%20%D0%BF%D1%8F%D1%82%D1%8B%D0%B9\n",
            "Первый турнир имени Джоуи Триббиани https://db.chgk.info/search/questions/%D0%9F%D0%B5%D1%80%D0%B2%D1%8B%D0%B9%20%D1%82%D1%83%D1%80%D0%BD%D0%B8%D1%80%20%D0%B8%D0%BC%D0%B5%D0%BD%D0%B8%20%D0%94%D0%B6%D0%BE%D1%83%D0%B8%20%D0%A2%D1%80%D0%B8%D0%B1%D0%B1%D0%B8%D0%B0%D0%BD%D0%B8\n",
            "ТРИОтлон-3 https://db.chgk.info/search/questions/%D0%A2%D0%A0%D0%98%D0%9E%D1%82%D0%BB%D0%BE%D0%BD-3\n",
            "Кубок Космонавтики https://db.chgk.info/search/questions/%D0%9A%D1%83%D0%B1%D0%BE%D0%BA%20%D0%9A%D0%BE%D1%81%D0%BC%D0%BE%D0%BD%D0%B0%D0%B2%D1%82%D0%B8%D0%BA%D0%B8\n",
            "Январское диминуэндо https://db.chgk.info/search/questions/%D0%AF%D0%BD%D0%B2%D0%B0%D1%80%D1%81%D0%BA%D0%BE%D0%B5%20%D0%B4%D0%B8%D0%BC%D0%B8%D0%BD%D1%83%D1%8D%D0%BD%D0%B4%D0%BE\n"
          ],
          "name": "stdout"
        }
      ]
    },
    {
      "cell_type": "code",
      "metadata": {
        "id": "zmuN8Oi-SpVM",
        "colab_type": "code",
        "colab": {
          "base_uri": "https://localhost:8080/",
          "height": 222
        },
        "outputId": "06500b37-ca73-4d18-b0fc-0e2ac58af7ea"
      },
      "source": [
        "print('Турниры с простыми вопросами:')\n",
        "for t in easy_tournaments:\n",
        "  print (t, 'https://db.chgk.info/search/questions/' + quote(t))"
      ],
      "execution_count": null,
      "outputs": [
        {
          "output_type": "stream",
          "text": [
            "Турниры с простыми вопросами:\n",
            "Кубок МТС https://db.chgk.info/search/questions/%D0%9A%D1%83%D0%B1%D0%BE%D0%BA%20%D0%9C%D0%A2%D0%A1\n",
            "На несколько вопросов больше https://db.chgk.info/search/questions/%D0%9D%D0%B0%20%D0%BD%D0%B5%D1%81%D0%BA%D0%BE%D0%BB%D1%8C%D0%BA%D0%BE%20%D0%B2%D0%BE%D0%BF%D1%80%D0%BE%D1%81%D0%BE%D0%B2%20%D0%B1%D0%BE%D0%BB%D1%8C%D1%88%D0%B5\n",
            "Серия Premier. Красно-жёлтые дни https://db.chgk.info/search/questions/%D0%A1%D0%B5%D1%80%D0%B8%D1%8F%20Premier.%20%D0%9A%D1%80%D0%B0%D1%81%D0%BD%D0%BE-%D0%B6%D1%91%D0%BB%D1%82%D1%8B%D0%B5%20%D0%B4%D0%BD%D0%B8\n",
            "Синхронный студенческий Кубок Беларуси https://db.chgk.info/search/questions/%D0%A1%D0%B8%D0%BD%D1%85%D1%80%D0%BE%D0%BD%D0%BD%D1%8B%D0%B9%20%D1%81%D1%82%D1%83%D0%B4%D0%B5%D0%BD%D1%87%D0%B5%D1%81%D0%BA%D0%B8%D0%B9%20%D0%9A%D1%83%D0%B1%D0%BE%D0%BA%20%D0%91%D0%B5%D0%BB%D0%B0%D1%80%D1%83%D1%81%D0%B8\n",
            "ОВСЧ. 4 этап https://db.chgk.info/search/questions/%D0%9E%D0%92%D0%A1%D0%A7.%204%20%D1%8D%D1%82%D0%B0%D0%BF\n",
            "Летний гусарский кубок https://db.chgk.info/search/questions/%D0%9B%D0%B5%D1%82%D0%BD%D0%B8%D0%B9%20%D0%B3%D1%83%D1%81%D0%B0%D1%80%D1%81%D0%BA%D0%B8%D0%B9%20%D0%BA%D1%83%D0%B1%D0%BE%D0%BA\n",
            "Экватор https://db.chgk.info/search/questions/%D0%AD%D0%BA%D0%B2%D0%B0%D1%82%D0%BE%D1%80\n",
            "Зеркало Octobearfest'а https://db.chgk.info/search/questions/%D0%97%D0%B5%D1%80%D0%BA%D0%B0%D0%BB%D0%BE%20Octobearfest%27%D0%B0\n",
            "Гусарская лига. II сезон. III этап https://db.chgk.info/search/questions/%D0%93%D1%83%D1%81%D0%B0%D1%80%D1%81%D0%BA%D0%B0%D1%8F%20%D0%BB%D0%B8%D0%B3%D0%B0.%20II%20%D1%81%D0%B5%D0%B7%D0%BE%D0%BD.%20III%20%D1%8D%D1%82%D0%B0%D0%BF\n",
            "Мемориал памяти Михаила Басса https://db.chgk.info/search/questions/%D0%9C%D0%B5%D0%BC%D0%BE%D1%80%D0%B8%D0%B0%D0%BB%20%D0%BF%D0%B0%D0%BC%D1%8F%D1%82%D0%B8%20%D0%9C%D0%B8%D1%85%D0%B0%D0%B8%D0%BB%D0%B0%20%D0%91%D0%B0%D1%81%D1%81%D0%B0\n"
          ],
          "name": "stdout"
        }
      ]
    },
    {
      "cell_type": "markdown",
      "metadata": {
        "id": "rOuRZHYTxoMS",
        "colab_type": "text"
      },
      "source": [
        "## 6. Топ игроков"
      ]
    },
    {
      "cell_type": "code",
      "metadata": {
        "id": "nsVVcCTcSqrk",
        "colab_type": "code",
        "colab": {}
      },
      "source": [
        "is_answered = []\n",
        "player_ids_test = []\n",
        "questions_test = []\n",
        "for id, tournament in test_data.items():\n",
        "  for team in tournament[\"tournament_result\"]:\n",
        "    for question, answer in enumerate(team[\"mask\"]):\n",
        "      try:\n",
        "          is_answered.extend([int(answer)] * len(team[\"teamMembers\"]))\n",
        "          questions_test.extend([question] * len(team[\"teamMembers\"]))\n",
        "      except ValueError:\n",
        "          continue\n",
        "      for member in team[\"teamMembers\"]:\n",
        "          player_ids_test.append(member)\n",
        "\n",
        "questions_test = np.asarray(questions_test, dtype=np.int32)"
      ],
      "execution_count": null,
      "outputs": []
    },
    {
      "cell_type": "code",
      "metadata": {
        "id": "EKc2AHH09p6i",
        "colab_type": "code",
        "colab": {}
      },
      "source": [
        "df_test_players = pd.DataFrame.from_dict({\n",
        "  'tournament_id': tournament_ids_test,\n",
        "  'team_id': team_ids_test,\n",
        "  'player_id': player_ids_test,\n",
        "  'questions': questions_test,\n",
        "  'predict': predict_test,\n",
        "})\n",
        "df_test_players[\"1-predict\"] = 1 - df_test_players[\"predict\"]\n",
        "df_test_players[\"predict10\"] = df_test_players[\"predict\"]*10"
      ],
      "execution_count": null,
      "outputs": []
    },
    {
      "cell_type": "code",
      "metadata": {
        "id": "1UYeIW3XAQXC",
        "colab_type": "code",
        "colab": {
          "base_uri": "https://localhost:8080/",
          "height": 402
        },
        "outputId": "1a38fc9d-6720-4569-de23-d00a6257f115"
      },
      "source": [
        "# Перемножим значения предиктов для каждого игрока\n",
        "# Значит игроки с более высокики вероятностями ответов и будут иметь высокие позиции\n",
        "\n",
        "df_test_players_ratio = df_test_players[[\"player_id\", 'predict10']].groupby([\"player_id\"]).agg(\"prod\").reset_index()\n",
        "df_test_players_quest_numb = df_test_players[[\"player_id\", 'questions']].groupby([\"player_id\"]).agg(\"count\").reset_index()\n",
        "df_test_players_games = df_test_players[[\"player_id\", 'tournament_id']].drop_duplicates().reset_index()\n",
        "df_test_players_games = df_test_players_games.drop(columns=\"index\").groupby([\"player_id\"]).agg(\"count\").reset_index()\n",
        "merge = pd.merge(df_test_players_ratio, df_test_players_quest_numb, on=[\"player_id\"])\n",
        "merge = pd.merge(merge, df_test_players_games, on=[\"player_id\"])\n",
        "merge.columns = ['player_id',\t'ratio',\t'questions',\t'tournaments']\n",
        "merge = merge.sort_values(by = 'ratio', ascending=False)\n",
        "merge"
      ],
      "execution_count": null,
      "outputs": [
        {
          "output_type": "execute_result",
          "data": {
            "text/html": [
              "<div>\n",
              "<style scoped>\n",
              "    .dataframe tbody tr th:only-of-type {\n",
              "        vertical-align: middle;\n",
              "    }\n",
              "\n",
              "    .dataframe tbody tr th {\n",
              "        vertical-align: top;\n",
              "    }\n",
              "\n",
              "    .dataframe thead th {\n",
              "        text-align: right;\n",
              "    }\n",
              "</style>\n",
              "<table border=\"1\" class=\"dataframe\">\n",
              "  <thead>\n",
              "    <tr style=\"text-align: right;\">\n",
              "      <th></th>\n",
              "      <th>player_id</th>\n",
              "      <th>ratio</th>\n",
              "      <th>questions</th>\n",
              "      <th>tournaments</th>\n",
              "    </tr>\n",
              "  </thead>\n",
              "  <tbody>\n",
              "    <tr>\n",
              "      <th>548</th>\n",
              "      <td>7008</td>\n",
              "      <td>inf</td>\n",
              "      <td>1033</td>\n",
              "      <td>23</td>\n",
              "    </tr>\n",
              "    <tr>\n",
              "      <th>2421</th>\n",
              "      <td>30152</td>\n",
              "      <td>inf</td>\n",
              "      <td>1669</td>\n",
              "      <td>43</td>\n",
              "    </tr>\n",
              "    <tr>\n",
              "      <th>2192</th>\n",
              "      <td>27403</td>\n",
              "      <td>4.299292e+146</td>\n",
              "      <td>517</td>\n",
              "      <td>13</td>\n",
              "    </tr>\n",
              "    <tr>\n",
              "      <th>1595</th>\n",
              "      <td>19915</td>\n",
              "      <td>5.704903e+137</td>\n",
              "      <td>1047</td>\n",
              "      <td>25</td>\n",
              "    </tr>\n",
              "    <tr>\n",
              "      <th>1482</th>\n",
              "      <td>18332</td>\n",
              "      <td>3.230422e+124</td>\n",
              "      <td>1295</td>\n",
              "      <td>33</td>\n",
              "    </tr>\n",
              "    <tr>\n",
              "      <th>...</th>\n",
              "      <td>...</td>\n",
              "      <td>...</td>\n",
              "      <td>...</td>\n",
              "      <td>...</td>\n",
              "    </tr>\n",
              "    <tr>\n",
              "      <th>6460</th>\n",
              "      <td>116481</td>\n",
              "      <td>0.000000e+00</td>\n",
              "      <td>373</td>\n",
              "      <td>10</td>\n",
              "    </tr>\n",
              "    <tr>\n",
              "      <th>6462</th>\n",
              "      <td>116490</td>\n",
              "      <td>0.000000e+00</td>\n",
              "      <td>224</td>\n",
              "      <td>6</td>\n",
              "    </tr>\n",
              "    <tr>\n",
              "      <th>6463</th>\n",
              "      <td>116497</td>\n",
              "      <td>0.000000e+00</td>\n",
              "      <td>449</td>\n",
              "      <td>12</td>\n",
              "    </tr>\n",
              "    <tr>\n",
              "      <th>6465</th>\n",
              "      <td>116519</td>\n",
              "      <td>0.000000e+00</td>\n",
              "      <td>143</td>\n",
              "      <td>4</td>\n",
              "    </tr>\n",
              "    <tr>\n",
              "      <th>0</th>\n",
              "      <td>-1</td>\n",
              "      <td>0.000000e+00</td>\n",
              "      <td>361514</td>\n",
              "      <td>173</td>\n",
              "    </tr>\n",
              "  </tbody>\n",
              "</table>\n",
              "<p>13439 rows × 4 columns</p>\n",
              "</div>"
            ],
            "text/plain": [
              "      player_id          ratio  questions  tournaments\n",
              "548        7008            inf       1033           23\n",
              "2421      30152            inf       1669           43\n",
              "2192      27403  4.299292e+146        517           13\n",
              "1595      19915  5.704903e+137       1047           25\n",
              "1482      18332  3.230422e+124       1295           33\n",
              "...         ...            ...        ...          ...\n",
              "6460     116481   0.000000e+00        373           10\n",
              "6462     116490   0.000000e+00        224            6\n",
              "6463     116497   0.000000e+00        449           12\n",
              "6465     116519   0.000000e+00        143            4\n",
              "0            -1   0.000000e+00     361514          173\n",
              "\n",
              "[13439 rows x 4 columns]"
            ]
          },
          "metadata": {
            "tags": []
          },
          "execution_count": 30
        }
      ]
    },
    {
      "cell_type": "code",
      "metadata": {
        "id": "yvtCCy29HNnP",
        "colab_type": "code",
        "colab": {}
      },
      "source": [
        "best_players = list(merge['player_id'][0:5].values)\n",
        "best_members = {}\n",
        "for id, tournament in results.items():\n",
        "  y = int(tournaments[id][\"dateStart\"][0:4])\n",
        "  if y in [2020]:\n",
        "    for team_results in tournament:\n",
        "      for member in team_results['teamMembers']:\n",
        "        member_id = member['player']['id']\n",
        "        if member_id in best_players:\n",
        "          best_members[best_players.index(member_id)+1] = [member['player']['name'] + ' ' + member['player']['surname'], member_id]\n"
      ],
      "execution_count": null,
      "outputs": []
    },
    {
      "cell_type": "code",
      "metadata": {
        "id": "cDos5qWHyFNv",
        "colab_type": "code",
        "colab": {}
      },
      "source": [
        "import requests\n",
        "\n",
        "def get_real_pos(player_id):\n",
        "    url = f\"https://rating.chgk.info/api/players/{player_id}/rating/last\"\n",
        "    try:\n",
        "        pos = requests.get(url).json()['rating_position']\n",
        "    except:\n",
        "        pos = 0\n",
        "    return pos"
      ],
      "execution_count": null,
      "outputs": []
    },
    {
      "cell_type": "code",
      "metadata": {
        "id": "RLWJ_Si8OdHT",
        "colab_type": "code",
        "colab": {
          "base_uri": "https://localhost:8080/",
          "height": 101
        },
        "outputId": "371644e6-2c49-493a-f474-823cd9c7b8f9"
      },
      "source": [
        "# За счет того, что в разделе подготовки данных исключали игроков с числом игр до 5\n",
        "# в топ попали игроки, отыгравшие много вопросов\n",
        "\n",
        "# Реальные рейтинги этих игроков не на самых последних местах, модель справилась неплохо\n",
        "\n",
        "from sortedcontainers import SortedDict\n",
        "best_members = SortedDict(best_members)\n",
        "for k, v in best_members.items():\n",
        "  print(f\"{k}: {v[0]}, отыграно вопросов {merge[merge.player_id==v[1]].questions.values[0]}, отыграно турниров {merge[merge.player_id==v[1]].tournaments.values[0]},\",\n",
        "        f\"реальный рейтинг в базе ЧГК {get_real_pos(v[1])}\")"
      ],
      "execution_count": null,
      "outputs": [
        {
          "output_type": "stream",
          "text": [
            "1: Алексей Гилёв, отыграно вопросов 1033, отыграно турниров 23, реальный рейтинг в базе ЧГК 30\n",
            "2: Артём Сорожкин, отыграно вопросов 1669, отыграно турниров 43, реальный рейтинг в базе ЧГК 1\n",
            "3: Максим Руссо, отыграно вопросов 517, отыграно турниров 13, реальный рейтинг в базе ЧГК 5\n",
            "4: Александр Марков, отыграно вопросов 1047, отыграно турниров 25, реальный рейтинг в базе ЧГК 51\n",
            "5: Александр Либер, отыграно вопросов 1295, отыграно турниров 33, реальный рейтинг в базе ЧГК 7\n"
          ],
          "name": "stdout"
        }
      ]
    },
    {
      "cell_type": "markdown",
      "metadata": {
        "id": "_fejX-cLY96n",
        "colab_type": "text"
      },
      "source": [
        "## 7. Обучение на всех данных до 2019 года"
      ]
    },
    {
      "cell_type": "code",
      "metadata": {
        "id": "AhdRM0rNetvf",
        "colab_type": "code",
        "colab": {}
      },
      "source": [
        "# Тут всё скопировано из пунктов 1 и 2, но в трейн берутся не только игры 2019 года\n",
        "\n",
        "with open(\"results.pkl\", \"rb\") as f:\n",
        "  results = pickle.load(f)\n",
        "with open(\"tournaments.pkl\", \"rb\") as f:\n",
        "  tournaments = pickle.load(f)\n",
        "  \n",
        "# Выбираем игры от 2019 года с информацией по ответам и игрокам\n",
        "\n",
        "results_upd = defaultdict(list)\n",
        "tournaments_upd = {}\n",
        "\n",
        "for id, value in results.items():\n",
        "  for team in value:\n",
        "    mask = team.get(\"mask\", None)\n",
        "    team_members = team.get(\"teamMembers\", [])\n",
        "    if mask and team_members:\n",
        "      results_upd[id].append(team)\n",
        "\n",
        "tournaments_upd = {k: tournaments[k] for k, v in results_upd.items()}\n",
        "results, tournaments = dict(results_upd), tournaments_upd"
      ],
      "execution_count": null,
      "outputs": []
    },
    {
      "cell_type": "code",
      "metadata": {
        "colab_type": "code",
        "id": "q7SUNDKlZN7_",
        "colab": {}
      },
      "source": [
        "# Делаем разбивку по годам на тест и трейн\n",
        "\n",
        "train_data, test_data = {}, {}\n",
        "for id, tournament in results.items():\n",
        "  y = int(tournaments[id][\"dateStart\"][0:4])\n",
        "  \n",
        "  if y < 2020 and y >= 2015:\n",
        "    train_data[id] = {\"tournament_name\": tournaments[id][\"name\"]}\n",
        "    team_results = []\n",
        "    for team_result in tournament:\n",
        "      team_info = {\"team_id\": team_result[\"team\"][\"id\"], \"mask\": team_result[\"mask\"], \"position\": team_result[\"position\"],\n",
        "        \"teamMembers\": [team_member[\"player\"][\"id\"] for team_member in team_result['teamMembers']]}\n",
        "      team_results.append(team_info)\n",
        "    train_data[id][\"tournament_result\"] = team_results\n",
        "\n",
        "  elif y == 2020:\n",
        "    test_data[id] = {\"tournament_name\": tournaments[id][\"name\"]}\n",
        "    team_results = []\n",
        "    for team_result in tournament:\n",
        "      team_info = {\"team_id\": team_result[\"team\"][\"id\"], \"mask\": team_result[\"mask\"], \"position\": team_result[\"position\"],\n",
        "        \"teamMembers\": [team_member[\"player\"][\"id\"] for team_member in team_result['teamMembers']]}\n",
        "      team_results.append(team_info)\n",
        "    test_data[id][\"tournament_result\"] = team_results"
      ],
      "execution_count": null,
      "outputs": []
    },
    {
      "cell_type": "code",
      "metadata": {
        "colab_type": "code",
        "id": "A2Ln9HkpZN8D",
        "colab": {
          "base_uri": "https://localhost:8080/",
          "height": 380,
          "referenced_widgets": [
            "b37e6abc4cfc4463b79c62fbdc31a691",
            "e3489192aa6e4291a42854e437f72a67",
            "422808fbe97844c6b85b44aa2f7b2959",
            "28a1a2d59f3243b28581d473c2f71e1a",
            "2841045337aa4cb6a648fe42545a8a0a",
            "321c940e67644e60bd3812950dcfc9b8",
            "5ae25981ef814e16a60dcd9383f143e7",
            "000355115852436aac3a6956eac2c4cb",
            "89b5ae2ef306440583d7cc5c72204172",
            "d37b8243b6654861a8bde31bc731662c",
            "f7e885ea35fc450eb8f5552656bbfe70",
            "731de2db6607439bb955055926fcefdc",
            "d79aa8b4a1e14779994c2323510c785d",
            "1567caa0b4894cce8fc732985f935ae2",
            "9242f8b300ef465b8c48f046fe9411b6",
            "7effe7cedda64c29992758316cbb1bda",
            "7299fc49d64248eb97dcfe8992b249dc",
            "402f183464e7416caf0bc13a007815e7",
            "56da01ffbd6c46838fc2fca27b6f8edf",
            "eb5aff5da8b64f5cab6caa172ba077c2",
            "587d96ea837d41f9a9301c62639cdbf9",
            "af5b8e69fe5d4de6901b6bb25235b95a",
            "a0fa05570d764f029c87884aca7c7685",
            "e5d8c21c546e476b9eae049820bdf6fd",
            "45b858d0761e4e9798f34e3974d75154",
            "db128c3de6c245118fdfa913e3164889",
            "36899f4fc2b54015a2c8a88907da7f70",
            "d300325a4f0540d79f2d43fe23b4c209",
            "ca5cf92482ba484fb5ec73c5590f25f9",
            "bf3d0a8992844bb9bb5615b7fe805f51",
            "150639cc4b804c38b3bd241d7a55b2f2",
            "425a23bba0ac48f2a65d2d42dd900e77"
          ]
        },
        "outputId": "677e5350-6991-477c-87c1-d19520e1c25b"
      },
      "source": [
        "# Заменяем id игроков, отсутствующих в тесте,\n",
        "# и игроков, переживших мало игр\n",
        "\n",
        "import tqdm\n",
        "\n",
        "games_by_player = Counter()\n",
        "for tournament in tqdm.tqdm_notebook(train_data.values()):\n",
        "  for team in tournament[\"tournament_result\"]:\n",
        "    games_by_player += Counter({member: 1 for member in team[\"teamMembers\"]})\n",
        "\n",
        "low_exp_players = set()\n",
        "for member, games in tqdm.tqdm_notebook(games_by_player.most_common()):\n",
        "  if games <= 5:\n",
        "    low_exp_players.add(member)\n",
        "\n",
        "y2019_players = set()\n",
        "for tournament in tqdm.tqdm_notebook(train_data.values()):\n",
        "  for team in tournament[\"tournament_result\"]:\n",
        "    team[\"teamMembers\"] = set([-1 if member in low_exp_players else member for member in team[\"teamMembers\"]])\n",
        "    y2019_players.update(team[\"teamMembers\"])\n",
        "        \n",
        "for tournament in tqdm.tqdm_notebook(test_data.values()):\n",
        "  for team in tournament[\"tournament_result\"]:\n",
        "    team[\"teamMembers\"] = set([-1 if member not in y2019_players else member for member in team[\"teamMembers\"]])"
      ],
      "execution_count": null,
      "outputs": [
        {
          "output_type": "stream",
          "text": [
            "/usr/local/lib/python3.6/dist-packages/ipykernel_launcher.py:7: TqdmDeprecationWarning: This function will be removed in tqdm==5.0.0\n",
            "Please use `tqdm.notebook.tqdm` instead of `tqdm.tqdm_notebook`\n",
            "  import sys\n"
          ],
          "name": "stderr"
        },
        {
          "output_type": "display_data",
          "data": {
            "application/vnd.jupyter.widget-view+json": {
              "model_id": "b37e6abc4cfc4463b79c62fbdc31a691",
              "version_minor": 0,
              "version_major": 2
            },
            "text/plain": [
              "HBox(children=(FloatProgress(value=0.0, max=2661.0), HTML(value='')))"
            ]
          },
          "metadata": {
            "tags": []
          }
        },
        {
          "output_type": "stream",
          "text": [
            "\n"
          ],
          "name": "stdout"
        },
        {
          "output_type": "stream",
          "text": [
            "/usr/local/lib/python3.6/dist-packages/ipykernel_launcher.py:12: TqdmDeprecationWarning: This function will be removed in tqdm==5.0.0\n",
            "Please use `tqdm.notebook.tqdm` instead of `tqdm.tqdm_notebook`\n",
            "  if sys.path[0] == '':\n"
          ],
          "name": "stderr"
        },
        {
          "output_type": "display_data",
          "data": {
            "application/vnd.jupyter.widget-view+json": {
              "model_id": "89b5ae2ef306440583d7cc5c72204172",
              "version_minor": 0,
              "version_major": 2
            },
            "text/plain": [
              "HBox(children=(FloatProgress(value=0.0, max=126304.0), HTML(value='')))"
            ]
          },
          "metadata": {
            "tags": []
          }
        },
        {
          "output_type": "stream",
          "text": [
            "\n"
          ],
          "name": "stdout"
        },
        {
          "output_type": "stream",
          "text": [
            "/usr/local/lib/python3.6/dist-packages/ipykernel_launcher.py:17: TqdmDeprecationWarning: This function will be removed in tqdm==5.0.0\n",
            "Please use `tqdm.notebook.tqdm` instead of `tqdm.tqdm_notebook`\n"
          ],
          "name": "stderr"
        },
        {
          "output_type": "display_data",
          "data": {
            "application/vnd.jupyter.widget-view+json": {
              "model_id": "7299fc49d64248eb97dcfe8992b249dc",
              "version_minor": 0,
              "version_major": 2
            },
            "text/plain": [
              "HBox(children=(FloatProgress(value=0.0, max=2661.0), HTML(value='')))"
            ]
          },
          "metadata": {
            "tags": []
          }
        },
        {
          "output_type": "stream",
          "text": [
            "\n"
          ],
          "name": "stdout"
        },
        {
          "output_type": "stream",
          "text": [
            "/usr/local/lib/python3.6/dist-packages/ipykernel_launcher.py:22: TqdmDeprecationWarning: This function will be removed in tqdm==5.0.0\n",
            "Please use `tqdm.notebook.tqdm` instead of `tqdm.tqdm_notebook`\n"
          ],
          "name": "stderr"
        },
        {
          "output_type": "display_data",
          "data": {
            "application/vnd.jupyter.widget-view+json": {
              "model_id": "45b858d0761e4e9798f34e3974d75154",
              "version_minor": 0,
              "version_major": 2
            },
            "text/plain": [
              "HBox(children=(FloatProgress(value=0.0, max=173.0), HTML(value='')))"
            ]
          },
          "metadata": {
            "tags": []
          }
        },
        {
          "output_type": "stream",
          "text": [
            "\n"
          ],
          "name": "stdout"
        }
      ]
    },
    {
      "cell_type": "code",
      "metadata": {
        "id": "H1bex2z-BffR",
        "colab_type": "code",
        "colab": {
          "base_uri": "https://localhost:8080/",
          "height": 34
        },
        "outputId": "fc3213a6-b9b2-4cf7-bd8c-17e30781eef5"
      },
      "source": [
        "import gc\n",
        "\n",
        "gc.collect()"
      ],
      "execution_count": null,
      "outputs": [
        {
          "output_type": "execute_result",
          "data": {
            "text/plain": [
              "0"
            ]
          },
          "metadata": {
            "tags": []
          },
          "execution_count": 6
        }
      ]
    },
    {
      "cell_type": "code",
      "metadata": {
        "colab_type": "code",
        "id": "6OlkUuzKZN8F",
        "colab": {}
      },
      "source": [
        "# Подготавливаем признаки и классы\n",
        "\n",
        "members_and_questions = set()\n",
        "for id, tournament in train_data.items():\n",
        "  for team in tournament[\"tournament_result\"]:\n",
        "    members_and_questions.update(team[\"teamMembers\"])\n",
        "    questions_ids = (f\"{id}_{question_num}\" for question_num in range(len(team[\"mask\"])))\n",
        "    members_and_questions.update(questions_ids)\n",
        "members_and_questions = {v: i for i, v in enumerate(members_and_questions)}"
      ],
      "execution_count": null,
      "outputs": []
    },
    {
      "cell_type": "code",
      "metadata": {
        "colab_type": "code",
        "id": "s6yvFq9dZN8I",
        "colab": {}
      },
      "source": [
        "def prepare_data(data, train):\n",
        "  global members_and_questions\n",
        "  rows = []\n",
        "  cols = []\n",
        "  y = []\n",
        "  current_row = 0\n",
        "  for id, tournament in data.items():\n",
        "    for team in tournament[\"tournament_result\"]:\n",
        "      for quest_numb, mask in enumerate(team[\"mask\"]):\n",
        "        try:\n",
        "          y.extend([int(mask)] * len(team[\"teamMembers\"]))\n",
        "        except ValueError:\n",
        "          continue\n",
        "        for member in team[\"teamMembers\"]:\n",
        "          rows.append(current_row)\n",
        "          cols.append(members_and_questions[member])\n",
        "          if train:    \n",
        "            rows.append(current_row)\n",
        "            cols.append(members_and_questions[f\"{id}_{quest_numb}\"])\n",
        "          current_row += 1\n",
        "              \n",
        "  rows = np.asarray(rows, dtype=np.int32)\n",
        "  cols = np.asarray(cols, dtype=np.int32)\n",
        "  data = np.ones(len(rows))\n",
        "  y = np.asarray(y, dtype=np.int8)\n",
        "      \n",
        "  X = coo_matrix((data, (rows, cols)), shape=(len(y), len(members_and_questions)))\n",
        "  return X, y\n",
        "\n",
        "X_train, y_train = prepare_data(train_data, True)\n",
        "X_test, y_test = prepare_data(test_data, False)"
      ],
      "execution_count": null,
      "outputs": []
    },
    {
      "cell_type": "code",
      "metadata": {
        "colab_type": "code",
        "id": "d6BCCoFiZN8K",
        "colab": {
          "base_uri": "https://localhost:8080/",
          "height": 235
        },
        "outputId": "54b79c0f-39dd-4397-fd10-76f1a585da50"
      },
      "source": [
        "# С помощью модели логистической регресии будем предсказывать вероятность правильного ответа\n",
        "# для отдельного игрока на конкретный вопрос, при этом на основе данных 2019 года считаем,\n",
        "# что если команда ответила на вопрос верно, то и все игроки ответили верно на тот же вопрос\n",
        "\n",
        "model = LogisticRegression()\n",
        "model.fit(X_train, y_train)"
      ],
      "execution_count": null,
      "outputs": [
        {
          "output_type": "stream",
          "text": [
            "/usr/local/lib/python3.6/dist-packages/sklearn/linear_model/_logistic.py:940: ConvergenceWarning: lbfgs failed to converge (status=1):\n",
            "STOP: TOTAL NO. of ITERATIONS REACHED LIMIT.\n",
            "\n",
            "Increase the number of iterations (max_iter) or scale the data as shown in:\n",
            "    https://scikit-learn.org/stable/modules/preprocessing.html\n",
            "Please also refer to the documentation for alternative solver options:\n",
            "    https://scikit-learn.org/stable/modules/linear_model.html#logistic-regression\n",
            "  extra_warning_msg=_LOGISTIC_SOLVER_CONVERGENCE_MSG)\n"
          ],
          "name": "stderr"
        },
        {
          "output_type": "execute_result",
          "data": {
            "text/plain": [
              "LogisticRegression(C=1.0, class_weight=None, dual=False, fit_intercept=True,\n",
              "                   intercept_scaling=1, l1_ratio=None, max_iter=100,\n",
              "                   multi_class='auto', n_jobs=None, penalty='l2',\n",
              "                   random_state=None, solver='lbfgs', tol=0.0001, verbose=0,\n",
              "                   warm_start=False)"
            ]
          },
          "metadata": {
            "tags": []
          },
          "execution_count": 9
        }
      ]
    },
    {
      "cell_type": "code",
      "metadata": {
        "colab_type": "code",
        "id": "KW9gom_yZN8N",
        "colab": {
          "base_uri": "https://localhost:8080/",
          "height": 50
        },
        "outputId": "4f4d8fbc-f9f6-43cd-a6b4-67f3900aa914"
      },
      "source": [
        "from sklearn.metrics import log_loss\n",
        "\n",
        "predict_train = model.predict_proba(X_train)[:, 1]\n",
        "predict_test = model.predict_proba(X_test)[:, 1]\n",
        "\n",
        "print (log_loss(y_train, predict_train))\n",
        "print (log_loss(y_test, predict_test))"
      ],
      "execution_count": null,
      "outputs": [
        {
          "output_type": "stream",
          "text": [
            "0.5123950572617051\n",
            "0.7177309563600245\n"
          ],
          "name": "stdout"
        }
      ]
    },
    {
      "cell_type": "code",
      "metadata": {
        "id": "KBTtYUttB_we",
        "colab_type": "code",
        "colab": {}
      },
      "source": [
        "# Сформировать трейн за все время до 2020 года не вышло, так как не хватало памяти,\n",
        "# но при расширении с 2015 по 2019 года результаты улучшились на пару десятых для обычной модели"
      ],
      "execution_count": null,
      "outputs": []
    },
    {
      "cell_type": "code",
      "metadata": {
        "colab_type": "code",
        "id": "uqJBOO-gLgek",
        "colab": {}
      },
      "source": [
        "# Для построения рейтинг-системы необходимо отсортировать команды в зависимости от\n",
        "# того, как много игроков в них правильно отвечают на вопросы.\n",
        "# Будем считать, что команда дает верный ответ при еврном ответе хотя бы одного игрока\n",
        "\n",
        "# Готовим датафрейм с местами команд для тестовых данных\n",
        "\n",
        "tournament_ids = []\n",
        "team_ids = []\n",
        "positions = []\n",
        "for id, tournament in test_data.items():\n",
        "  for team in tournament[\"tournament_result\"]:\n",
        "    tournament_ids.append(id)\n",
        "    team_ids.append(team[\"team_id\"])\n",
        "    positions.append(team[\"position\"])\n",
        "\n",
        "true_positions = pd.DataFrame.from_dict({\n",
        "  'tournament_id': tournament_ids,\n",
        "  'team_id': team_ids,\n",
        "  'position_true': positions,\n",
        "})"
      ],
      "execution_count": null,
      "outputs": []
    },
    {
      "cell_type": "code",
      "metadata": {
        "colab_type": "code",
        "id": "eVPy2AbNLgeo",
        "colab": {}
      },
      "source": [
        "# Готовим массивы с id игр и id команд с тем же размером, что и у предсказаний выше\n",
        "\n",
        "is_answered = []\n",
        "tournament_ids_test = []\n",
        "team_ids_test = []\n",
        "for id, tournament in test_data.items():\n",
        "  for team in tournament[\"tournament_result\"]:\n",
        "    team_id = team[\"team_id\"]\n",
        "    for answer in team[\"mask\"]:\n",
        "      try:\n",
        "        is_answered.extend([int(answer)] * len(team[\"teamMembers\"]))\n",
        "        tournament_ids_test.extend([id] * len(team[\"teamMembers\"]))\n",
        "        team_ids_test.extend([team_id] * len(team[\"teamMembers\"]))\n",
        "      except ValueError:\n",
        "        continue\n",
        "\n",
        "tournament_ids_test = np.asarray(tournament_ids_test, dtype=np.int32)\n",
        "team_ids_test = np.asarray(team_ids_test, dtype=np.int32)"
      ],
      "execution_count": null,
      "outputs": []
    },
    {
      "cell_type": "code",
      "metadata": {
        "colab_type": "code",
        "id": "WZ_249OFLgeq",
        "colab": {}
      },
      "source": [
        "# Готовим датафрейм с предсказанными местами команд для тестовых данных\n",
        "\n",
        "predicted_positions = pd.DataFrame.from_dict({\n",
        "  'tournament_id': tournament_ids_test,\n",
        "  'team_id': team_ids_test,\n",
        "  '1-predict': 1 - predict_test,\n",
        "})\n",
        "    \n",
        "predicted_positions = predicted_positions.groupby([\"tournament_id\", \"team_id\"]).agg(\"prod\").reset_index()\n",
        "predicted_positions[\"position_pred\"] = predicted_positions.groupby(\"tournament_id\")[\"1-predict\"].rank(\"dense\")"
      ],
      "execution_count": null,
      "outputs": []
    },
    {
      "cell_type": "code",
      "metadata": {
        "colab_type": "code",
        "id": "BFGyYfokLget",
        "colab": {
          "base_uri": "https://localhost:8080/",
          "height": 34
        },
        "outputId": "1992e0b9-d68d-4ee9-9c7c-5025f6cbdc74"
      },
      "source": [
        "# Считаем корреляции\n",
        "\n",
        "from scipy.stats import kendalltau, spearmanr\n",
        "\n",
        "merge = pd.merge(predicted_positions, true_positions, on=[\"tournament_id\", \"team_id\"])\n",
        "\n",
        "kendall = []\n",
        "spearman = []\n",
        "tournam_ids = merge['tournament_id'].unique()\n",
        "\n",
        "for tournam_id in tournam_ids:\n",
        "  kendall += [kendalltau(merge[merge['tournament_id']==tournam_id][\"position_pred\"], merge[merge['tournament_id']==tournam_id][\"position_true\"]).correlation]\n",
        "  spearman += [spearmanr(merge[merge['tournament_id']==tournam_id][\"position_pred\"], merge[merge['tournament_id']==tournam_id][\"position_true\"]).correlation] \n",
        "\n",
        "kendall = np.asarray(kendall)\n",
        "spearman = np.asarray(spearman)\n",
        "kendall[np.isnan(kendall)] = 0.0\n",
        "spearman[np.isnan(spearman)] = 0.0\n",
        "\n",
        "kendall_corr = np.mean(kendall)\n",
        "spearman_corr = np.mean(spearman)\n",
        "print ('Ранговые корреляции Спирмена и Кендалла равны', spearman_corr, 'и', kendall_corr)"
      ],
      "execution_count": null,
      "outputs": [
        {
          "output_type": "stream",
          "text": [
            "Ранговые корреляции Спирмена и Кендалла равны 0.7605705586778932 и 0.606400632339615\n"
          ],
          "name": "stdout"
        }
      ]
    },
    {
      "cell_type": "code",
      "metadata": {
        "id": "wWy46bHOLm6w",
        "colab_type": "code",
        "colab": {}
      },
      "source": [
        "# Прирост корреляции Спирмена — одна десятая, для Кендалла — одна сотая"
      ],
      "execution_count": null,
      "outputs": []
    }
  ]
}